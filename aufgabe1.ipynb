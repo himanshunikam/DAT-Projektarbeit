{
 "cells": [
  {
   "cell_type": "code",
   "execution_count": 1,
   "id": "initial_id",
   "metadata": {
    "collapsed": true,
    "ExecuteTime": {
     "end_time": "2024-12-19T10:04:03.550902Z",
     "start_time": "2024-12-19T10:04:02.267479Z"
    }
   },
   "outputs": [],
   "source": [
    "import os\n",
    "import pandas as pd\n",
    "path = 'C:\\OTH Amberg\\Sem 4\\Data engineering and analytics\\DAT-Projektarbeit\\DAT-WS2425-Projektarbeit\\DAT-WS2425-Projektarbeit\\Daten\\Strompreisdaten'\n",
    "extension = '.csv'\n",
    "\n",
    "files = [file for file in os.listdir(path) if file.endswith(extension)]\n",
    "\n",
    "dfs = []\n",
    "for file in files:\n",
    "    df = pd.read_csv(os.path.join(path, file))\n",
    "    dfs.append(df)\n",
    "    \n",
    "\n",
    "df = pd.concat(dfs, ignore_index=True)\n"
   ]
  },
  {
   "cell_type": "code",
   "outputs": [
    {
     "data": {
      "text/plain": "               Datum (MEZ)  Leistung nicht erneuerbar (MW)  \\\n0      2019-12-30 00:00:00                        14233.89   \n1      2019-12-30 01:00:00                        14154.34   \n2      2019-12-30 02:00:00                        13251.87   \n3      2019-12-30 03:00:00                        13186.11   \n4      2019-12-30 04:00:00                        13045.57   \n...                    ...                             ...   \n43387  2024-12-10 19:00:00                             NaN   \n43388  2024-12-10 20:00:00                             NaN   \n43389  2024-12-10 21:00:00                             NaN   \n43390  2024-12-10 22:00:00                             NaN   \n43391  2024-12-10 23:00:00                             NaN   \n\n       Leistung erneuerbar (MW)  Day Ahead Auktion Preis (EUR/MWh)  \\\n0                      29930.56                              11.07   \n1                      30166.97                              11.84   \n2                      30427.25                               6.16   \n3                      31289.24                               1.40   \n4                      32203.27                               4.81   \n...                         ...                                ...   \n43387                       NaN                             180.17   \n43388                       NaN                             166.60   \n43389                       NaN                             151.15   \n43390                       NaN                             137.94   \n43391                       NaN                             121.37   \n\n      Datum (MESZ)  \n0              NaN  \n1              NaN  \n2              NaN  \n3              NaN  \n4              NaN  \n...            ...  \n43387          NaN  \n43388          NaN  \n43389          NaN  \n43390          NaN  \n43391          NaN  \n\n[43392 rows x 5 columns]",
      "text/html": "<div>\n<style scoped>\n    .dataframe tbody tr th:only-of-type {\n        vertical-align: middle;\n    }\n\n    .dataframe tbody tr th {\n        vertical-align: top;\n    }\n\n    .dataframe thead th {\n        text-align: right;\n    }\n</style>\n<table border=\"1\" class=\"dataframe\">\n  <thead>\n    <tr style=\"text-align: right;\">\n      <th></th>\n      <th>Datum (MEZ)</th>\n      <th>Leistung nicht erneuerbar (MW)</th>\n      <th>Leistung erneuerbar (MW)</th>\n      <th>Day Ahead Auktion Preis (EUR/MWh)</th>\n      <th>Datum (MESZ)</th>\n    </tr>\n  </thead>\n  <tbody>\n    <tr>\n      <th>0</th>\n      <td>2019-12-30 00:00:00</td>\n      <td>14233.89</td>\n      <td>29930.56</td>\n      <td>11.07</td>\n      <td>NaN</td>\n    </tr>\n    <tr>\n      <th>1</th>\n      <td>2019-12-30 01:00:00</td>\n      <td>14154.34</td>\n      <td>30166.97</td>\n      <td>11.84</td>\n      <td>NaN</td>\n    </tr>\n    <tr>\n      <th>2</th>\n      <td>2019-12-30 02:00:00</td>\n      <td>13251.87</td>\n      <td>30427.25</td>\n      <td>6.16</td>\n      <td>NaN</td>\n    </tr>\n    <tr>\n      <th>3</th>\n      <td>2019-12-30 03:00:00</td>\n      <td>13186.11</td>\n      <td>31289.24</td>\n      <td>1.40</td>\n      <td>NaN</td>\n    </tr>\n    <tr>\n      <th>4</th>\n      <td>2019-12-30 04:00:00</td>\n      <td>13045.57</td>\n      <td>32203.27</td>\n      <td>4.81</td>\n      <td>NaN</td>\n    </tr>\n    <tr>\n      <th>...</th>\n      <td>...</td>\n      <td>...</td>\n      <td>...</td>\n      <td>...</td>\n      <td>...</td>\n    </tr>\n    <tr>\n      <th>43387</th>\n      <td>2024-12-10 19:00:00</td>\n      <td>NaN</td>\n      <td>NaN</td>\n      <td>180.17</td>\n      <td>NaN</td>\n    </tr>\n    <tr>\n      <th>43388</th>\n      <td>2024-12-10 20:00:00</td>\n      <td>NaN</td>\n      <td>NaN</td>\n      <td>166.60</td>\n      <td>NaN</td>\n    </tr>\n    <tr>\n      <th>43389</th>\n      <td>2024-12-10 21:00:00</td>\n      <td>NaN</td>\n      <td>NaN</td>\n      <td>151.15</td>\n      <td>NaN</td>\n    </tr>\n    <tr>\n      <th>43390</th>\n      <td>2024-12-10 22:00:00</td>\n      <td>NaN</td>\n      <td>NaN</td>\n      <td>137.94</td>\n      <td>NaN</td>\n    </tr>\n    <tr>\n      <th>43391</th>\n      <td>2024-12-10 23:00:00</td>\n      <td>NaN</td>\n      <td>NaN</td>\n      <td>121.37</td>\n      <td>NaN</td>\n    </tr>\n  </tbody>\n</table>\n<p>43392 rows × 5 columns</p>\n</div>"
     },
     "execution_count": 2,
     "metadata": {},
     "output_type": "execute_result"
    }
   ],
   "source": [
    "df"
   ],
   "metadata": {
    "collapsed": false,
    "ExecuteTime": {
     "end_time": "2024-12-19T10:04:26.777681Z",
     "start_time": "2024-12-19T10:04:26.762636Z"
    }
   },
   "id": "2a598676712d7408",
   "execution_count": 2
  },
  {
   "cell_type": "code",
   "outputs": [],
   "source": [],
   "metadata": {
    "collapsed": false
   },
   "id": "5b151fbe6329089"
  }
 ],
 "metadata": {
  "kernelspec": {
   "display_name": "Python 3",
   "language": "python",
   "name": "python3"
  },
  "language_info": {
   "codemirror_mode": {
    "name": "ipython",
    "version": 2
   },
   "file_extension": ".py",
   "mimetype": "text/x-python",
   "name": "python",
   "nbconvert_exporter": "python",
   "pygments_lexer": "ipython2",
   "version": "2.7.6"
  }
 },
 "nbformat": 4,
 "nbformat_minor": 5
}
