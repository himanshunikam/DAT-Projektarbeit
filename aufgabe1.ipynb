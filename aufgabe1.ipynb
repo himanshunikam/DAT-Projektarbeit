{
 "cells": [
  {
   "cell_type": "code",
   "id": "initial_id",
   "metadata": {
    "collapsed": true,
    "ExecuteTime": {
     "end_time": "2024-12-19T15:34:32.007883Z",
     "start_time": "2024-12-19T15:34:31.326872Z"
    }
   },
   "source": [
    "import os\n",
    "\n",
    "import numpy as np\n",
    "import pandas as pd\n",
    "path = 'DAT-WS2425-Projektarbeit\\DAT-WS2425-Projektarbeit\\Daten\\Strompreisdaten'\n",
    "extension = '.csv'\n",
    "pd.set_option('display.max_rows', 500)\n",
    "pd.set_option('display.max_columns', 500)\n",
    "files = [file for file in os.listdir(path) if file.endswith(extension)]\n",
    "\n",
    "dfs = []\n",
    "filecounter =0\n",
    "for file in files:\n",
    "    df = pd.read_csv(os.path.join(path, file))\n",
    "    dfs.append(df)\n",
    "    filecounter += 1\n",
    "    \n",
    "print(\"total files: \", filecounter)\n",
    "df = pd.concat(dfs, ignore_index=True)\n"
   ],
   "outputs": [
    {
     "name": "stdout",
     "output_type": "stream",
     "text": [
      "total files:  258\n"
     ]
    }
   ],
   "execution_count": 170
  },
  {
   "cell_type": "code",
   "source": [
    "df['Datum (MEZ)'] = pd.to_datetime(df['Datum (MEZ)'])\n",
    "df['Datum (MESZ)'] = pd.to_datetime(df['Datum (MESZ)'])\n",
    "print(len(df['Datum (MESZ)']))"
   ],
   "metadata": {
    "collapsed": false,
    "ExecuteTime": {
     "end_time": "2024-12-19T15:34:32.069002Z",
     "start_time": "2024-12-19T15:34:32.009936Z"
    }
   },
   "id": "2a598676712d7408",
   "outputs": [
    {
     "name": "stdout",
     "output_type": "stream",
     "text": [
      "43392\n"
     ]
    }
   ],
   "execution_count": 171
  },
  {
   "cell_type": "code",
   "source": "df = df.drop(df[df['Datum (MEZ)']<'2020-01-01'].index)",
   "metadata": {
    "collapsed": false,
    "ExecuteTime": {
     "end_time": "2024-12-19T15:34:32.079167Z",
     "start_time": "2024-12-19T15:34:32.071139Z"
    }
   },
   "id": "5b151fbe6329089",
   "outputs": [],
   "execution_count": 172
  },
  {
   "metadata": {
    "ExecuteTime": {
     "end_time": "2024-12-19T15:34:32.128542Z",
     "start_time": "2024-12-19T15:34:32.080183Z"
    }
   },
   "cell_type": "code",
   "source": [
    "# Separating and Creating new columns for Date and Time from Datum (MEZ) and Datum (MESZ)\n",
    "df['Datum'] = df['Datum (MEZ)'].dt.date\n",
    "df['Zeit'] = df['Datum (MEZ)'].dt.time\n",
    "df['Datum'] =df['Datum'].fillna(df['Datum (MESZ)'].dt.date)\n",
    "df['Zeit'] =df['Zeit'].fillna(df['Datum (MESZ)'].dt.time)\n",
    "cols = df.columns.tolist()\n",
    "print(cols)"
   ],
   "id": "31a293829d5090fc",
   "outputs": [
    {
     "name": "stdout",
     "output_type": "stream",
     "text": [
      "['Datum (MEZ)', 'Leistung nicht erneuerbar (MW)', 'Leistung erneuerbar (MW)', 'Day Ahead Auktion Preis (EUR/MWh)', 'Datum (MESZ)', 'Datum', 'Zeit']\n"
     ]
    }
   ],
   "execution_count": 173
  },
  {
   "metadata": {
    "ExecuteTime": {
     "end_time": "2024-12-19T15:34:32.153068Z",
     "start_time": "2024-12-19T15:34:32.129559Z"
    }
   },
   "cell_type": "code",
   "source": [
    "cols = ['Datum', 'Zeit','Datum (MEZ)', 'Leistung nicht erneuerbar (MW)', 'Leistung erneuerbar (MW)', 'Day Ahead Auktion Preis (EUR/MWh)', 'Datum (MESZ)']\n",
    "df = df[cols]\n",
    "df = df.drop(columns=['Datum (MEZ)', 'Datum (MESZ)'])\n",
    "df = df.reset_index(drop=True)\n",
    "df"
   ],
   "id": "a29a9480c61a883c",
   "outputs": [
    {
     "data": {
      "text/plain": [
       "            Datum      Zeit  Leistung nicht erneuerbar (MW)  \\\n",
       "0      2020-01-01  00:00:00                        18754.70   \n",
       "1      2020-01-01  01:00:00                        18337.54   \n",
       "2      2020-01-01  02:00:00                        18122.83   \n",
       "3      2020-01-01  03:00:00                        18323.93   \n",
       "4      2020-01-01  04:00:00                        18327.59   \n",
       "...           ...       ...                             ...   \n",
       "43339  2024-12-10  19:00:00                             NaN   \n",
       "43340  2024-12-10  20:00:00                             NaN   \n",
       "43341  2024-12-10  21:00:00                             NaN   \n",
       "43342  2024-12-10  22:00:00                             NaN   \n",
       "43343  2024-12-10  23:00:00                             NaN   \n",
       "\n",
       "       Leistung erneuerbar (MW)  Day Ahead Auktion Preis (EUR/MWh)  \n",
       "0                      13961.99                              41.88  \n",
       "1                      14242.17                              38.60  \n",
       "2                      14584.20                              36.55  \n",
       "3                      14746.24                              32.32  \n",
       "4                      14924.48                              30.85  \n",
       "...                         ...                                ...  \n",
       "43339                       NaN                             180.17  \n",
       "43340                       NaN                             166.60  \n",
       "43341                       NaN                             151.15  \n",
       "43342                       NaN                             137.94  \n",
       "43343                       NaN                             121.37  \n",
       "\n",
       "[43344 rows x 5 columns]"
      ],
      "text/html": [
       "<div>\n",
       "<style scoped>\n",
       "    .dataframe tbody tr th:only-of-type {\n",
       "        vertical-align: middle;\n",
       "    }\n",
       "\n",
       "    .dataframe tbody tr th {\n",
       "        vertical-align: top;\n",
       "    }\n",
       "\n",
       "    .dataframe thead th {\n",
       "        text-align: right;\n",
       "    }\n",
       "</style>\n",
       "<table border=\"1\" class=\"dataframe\">\n",
       "  <thead>\n",
       "    <tr style=\"text-align: right;\">\n",
       "      <th></th>\n",
       "      <th>Datum</th>\n",
       "      <th>Zeit</th>\n",
       "      <th>Leistung nicht erneuerbar (MW)</th>\n",
       "      <th>Leistung erneuerbar (MW)</th>\n",
       "      <th>Day Ahead Auktion Preis (EUR/MWh)</th>\n",
       "    </tr>\n",
       "  </thead>\n",
       "  <tbody>\n",
       "    <tr>\n",
       "      <th>0</th>\n",
       "      <td>2020-01-01</td>\n",
       "      <td>00:00:00</td>\n",
       "      <td>18754.70</td>\n",
       "      <td>13961.99</td>\n",
       "      <td>41.88</td>\n",
       "    </tr>\n",
       "    <tr>\n",
       "      <th>1</th>\n",
       "      <td>2020-01-01</td>\n",
       "      <td>01:00:00</td>\n",
       "      <td>18337.54</td>\n",
       "      <td>14242.17</td>\n",
       "      <td>38.60</td>\n",
       "    </tr>\n",
       "    <tr>\n",
       "      <th>2</th>\n",
       "      <td>2020-01-01</td>\n",
       "      <td>02:00:00</td>\n",
       "      <td>18122.83</td>\n",
       "      <td>14584.20</td>\n",
       "      <td>36.55</td>\n",
       "    </tr>\n",
       "    <tr>\n",
       "      <th>3</th>\n",
       "      <td>2020-01-01</td>\n",
       "      <td>03:00:00</td>\n",
       "      <td>18323.93</td>\n",
       "      <td>14746.24</td>\n",
       "      <td>32.32</td>\n",
       "    </tr>\n",
       "    <tr>\n",
       "      <th>4</th>\n",
       "      <td>2020-01-01</td>\n",
       "      <td>04:00:00</td>\n",
       "      <td>18327.59</td>\n",
       "      <td>14924.48</td>\n",
       "      <td>30.85</td>\n",
       "    </tr>\n",
       "    <tr>\n",
       "      <th>...</th>\n",
       "      <td>...</td>\n",
       "      <td>...</td>\n",
       "      <td>...</td>\n",
       "      <td>...</td>\n",
       "      <td>...</td>\n",
       "    </tr>\n",
       "    <tr>\n",
       "      <th>43339</th>\n",
       "      <td>2024-12-10</td>\n",
       "      <td>19:00:00</td>\n",
       "      <td>NaN</td>\n",
       "      <td>NaN</td>\n",
       "      <td>180.17</td>\n",
       "    </tr>\n",
       "    <tr>\n",
       "      <th>43340</th>\n",
       "      <td>2024-12-10</td>\n",
       "      <td>20:00:00</td>\n",
       "      <td>NaN</td>\n",
       "      <td>NaN</td>\n",
       "      <td>166.60</td>\n",
       "    </tr>\n",
       "    <tr>\n",
       "      <th>43341</th>\n",
       "      <td>2024-12-10</td>\n",
       "      <td>21:00:00</td>\n",
       "      <td>NaN</td>\n",
       "      <td>NaN</td>\n",
       "      <td>151.15</td>\n",
       "    </tr>\n",
       "    <tr>\n",
       "      <th>43342</th>\n",
       "      <td>2024-12-10</td>\n",
       "      <td>22:00:00</td>\n",
       "      <td>NaN</td>\n",
       "      <td>NaN</td>\n",
       "      <td>137.94</td>\n",
       "    </tr>\n",
       "    <tr>\n",
       "      <th>43343</th>\n",
       "      <td>2024-12-10</td>\n",
       "      <td>23:00:00</td>\n",
       "      <td>NaN</td>\n",
       "      <td>NaN</td>\n",
       "      <td>121.37</td>\n",
       "    </tr>\n",
       "  </tbody>\n",
       "</table>\n",
       "<p>43344 rows × 5 columns</p>\n",
       "</div>"
      ]
     },
     "execution_count": 174,
     "metadata": {},
     "output_type": "execute_result"
    }
   ],
   "execution_count": 174
  },
  {
   "metadata": {
    "ExecuteTime": {
     "end_time": "2024-12-19T15:34:32.171323Z",
     "start_time": "2024-12-19T15:34:32.160201Z"
    }
   },
   "cell_type": "code",
   "source": [
    "df_daily = pd.DataFrame(columns=['Datum','Zeit', 'Leistung nicht erneuerbar (MW)', 'Leistung erneurbar (MW)', 'Day Ahead Auktion Preis (EUR/MWh)'])\n",
    "df_daily"
   ],
   "id": "dc36e9984da5bcb2",
   "outputs": [
    {
     "data": {
      "text/plain": [
       "Empty DataFrame\n",
       "Columns: [Datum, Zeit, Leistung nicht erneuerbar (MW), Leistung erneurbar (MW), Day Ahead Auktion Preis (EUR/MWh)]\n",
       "Index: []"
      ],
      "text/html": [
       "<div>\n",
       "<style scoped>\n",
       "    .dataframe tbody tr th:only-of-type {\n",
       "        vertical-align: middle;\n",
       "    }\n",
       "\n",
       "    .dataframe tbody tr th {\n",
       "        vertical-align: top;\n",
       "    }\n",
       "\n",
       "    .dataframe thead th {\n",
       "        text-align: right;\n",
       "    }\n",
       "</style>\n",
       "<table border=\"1\" class=\"dataframe\">\n",
       "  <thead>\n",
       "    <tr style=\"text-align: right;\">\n",
       "      <th></th>\n",
       "      <th>Datum</th>\n",
       "      <th>Zeit</th>\n",
       "      <th>Leistung nicht erneuerbar (MW)</th>\n",
       "      <th>Leistung erneurbar (MW)</th>\n",
       "      <th>Day Ahead Auktion Preis (EUR/MWh)</th>\n",
       "    </tr>\n",
       "  </thead>\n",
       "  <tbody>\n",
       "  </tbody>\n",
       "</table>\n",
       "</div>"
      ]
     },
     "execution_count": 175,
     "metadata": {},
     "output_type": "execute_result"
    }
   ],
   "execution_count": 175
  },
  {
   "metadata": {},
   "cell_type": "markdown",
   "source": "",
   "id": "197fc916f5fc55f3"
  },
  {
   "metadata": {
    "ExecuteTime": {
     "end_time": "2024-12-19T15:34:32.180226Z",
     "start_time": "2024-12-19T15:34:32.172365Z"
    }
   },
   "cell_type": "code",
   "source": "",
   "id": "6f6589ff33609ba8",
   "outputs": [],
   "execution_count": 176
  },
  {
   "metadata": {
    "ExecuteTime": {
     "end_time": "2024-12-19T15:34:32.185398Z",
     "start_time": "2024-12-19T15:34:32.180226Z"
    }
   },
   "cell_type": "code",
   "source": "",
   "id": "9698037ce98695a2",
   "outputs": [],
   "execution_count": 176
  }
 ],
 "metadata": {
  "kernelspec": {
   "display_name": "Python 3",
   "language": "python",
   "name": "python3"
  },
  "language_info": {
   "codemirror_mode": {
    "name": "ipython",
    "version": 2
   },
   "file_extension": ".py",
   "mimetype": "text/x-python",
   "name": "python",
   "nbconvert_exporter": "python",
   "pygments_lexer": "ipython2",
   "version": "2.7.6"
  }
 },
 "nbformat": 4,
 "nbformat_minor": 5
}
