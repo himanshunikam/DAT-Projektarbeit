{
 "cells": [
  {
   "cell_type": "code",
   "id": "initial_id",
   "metadata": {
    "collapsed": true,
    "ExecuteTime": {
     "end_time": "2024-12-19T14:17:28.994619Z",
     "start_time": "2024-12-19T14:17:28.166379Z"
    }
   },
   "source": [
    "import os\n",
    "\n",
    "import numpy as np\n",
    "import pandas as pd\n",
    "path = 'DAT-WS2425-Projektarbeit\\DAT-WS2425-Projektarbeit\\Daten\\Strompreisdaten'\n",
    "extension = '.csv'\n",
    "pd.set_option('display.max_rows', 500)\n",
    "pd.set_option('display.max_columns', 500)\n",
    "files = [file for file in os.listdir(path) if file.endswith(extension)]\n",
    "\n",
    "dfs = []\n",
    "filecounter =0\n",
    "for file in files:\n",
    "    df = pd.read_csv(os.path.join(path, file))\n",
    "    dfs.append(df)\n",
    "    filecounter += 1\n",
    "    \n",
    "print(\"total files: \", filecounter)\n",
    "df = pd.concat(dfs, ignore_index=True)\n"
   ],
   "outputs": [
    {
     "name": "stdout",
     "output_type": "stream",
     "text": [
      "total files:  258\n"
     ]
    }
   ],
   "execution_count": 64
  },
  {
   "cell_type": "code",
   "source": [
    "df['Datum (MEZ)'] = pd.to_datetime(df['Datum (MEZ)'])\n",
    "df['Datum (MESZ)'] = pd.to_datetime(df['Datum (MESZ)'])\n",
    "print(len(df['Datum (MESZ)']))"
   ],
   "metadata": {
    "collapsed": false,
    "ExecuteTime": {
     "end_time": "2024-12-19T14:17:29.061919Z",
     "start_time": "2024-12-19T14:17:28.994619Z"
    }
   },
   "id": "2a598676712d7408",
   "outputs": [
    {
     "name": "stdout",
     "output_type": "stream",
     "text": [
      "43392\n"
     ]
    }
   ],
   "execution_count": 65
  },
  {
   "cell_type": "code",
   "source": [
    "df = df.drop(df[df['Datum (MEZ)']<'2020-01-01'].index)\n",
    "df"
   ],
   "metadata": {
    "collapsed": false,
    "ExecuteTime": {
     "end_time": "2024-12-19T14:17:29.088651Z",
     "start_time": "2024-12-19T14:17:29.064463Z"
    }
   },
   "id": "5b151fbe6329089",
   "outputs": [
    {
     "data": {
      "text/plain": [
       "              Datum (MEZ)  Leistung nicht erneuerbar (MW)  \\\n",
       "48    2020-01-01 00:00:00                        18754.70   \n",
       "49    2020-01-01 01:00:00                        18337.54   \n",
       "50    2020-01-01 02:00:00                        18122.83   \n",
       "51    2020-01-01 03:00:00                        18323.93   \n",
       "52    2020-01-01 04:00:00                        18327.59   \n",
       "...                   ...                             ...   \n",
       "43387 2024-12-10 19:00:00                             NaN   \n",
       "43388 2024-12-10 20:00:00                             NaN   \n",
       "43389 2024-12-10 21:00:00                             NaN   \n",
       "43390 2024-12-10 22:00:00                             NaN   \n",
       "43391 2024-12-10 23:00:00                             NaN   \n",
       "\n",
       "       Leistung erneuerbar (MW)  Day Ahead Auktion Preis (EUR/MWh)  \\\n",
       "48                     13961.99                              41.88   \n",
       "49                     14242.17                              38.60   \n",
       "50                     14584.20                              36.55   \n",
       "51                     14746.24                              32.32   \n",
       "52                     14924.48                              30.85   \n",
       "...                         ...                                ...   \n",
       "43387                       NaN                             180.17   \n",
       "43388                       NaN                             166.60   \n",
       "43389                       NaN                             151.15   \n",
       "43390                       NaN                             137.94   \n",
       "43391                       NaN                             121.37   \n",
       "\n",
       "      Datum (MESZ)  \n",
       "48             NaT  \n",
       "49             NaT  \n",
       "50             NaT  \n",
       "51             NaT  \n",
       "52             NaT  \n",
       "...            ...  \n",
       "43387          NaT  \n",
       "43388          NaT  \n",
       "43389          NaT  \n",
       "43390          NaT  \n",
       "43391          NaT  \n",
       "\n",
       "[43344 rows x 5 columns]"
      ],
      "text/html": [
       "<div>\n",
       "<style scoped>\n",
       "    .dataframe tbody tr th:only-of-type {\n",
       "        vertical-align: middle;\n",
       "    }\n",
       "\n",
       "    .dataframe tbody tr th {\n",
       "        vertical-align: top;\n",
       "    }\n",
       "\n",
       "    .dataframe thead th {\n",
       "        text-align: right;\n",
       "    }\n",
       "</style>\n",
       "<table border=\"1\" class=\"dataframe\">\n",
       "  <thead>\n",
       "    <tr style=\"text-align: right;\">\n",
       "      <th></th>\n",
       "      <th>Datum (MEZ)</th>\n",
       "      <th>Leistung nicht erneuerbar (MW)</th>\n",
       "      <th>Leistung erneuerbar (MW)</th>\n",
       "      <th>Day Ahead Auktion Preis (EUR/MWh)</th>\n",
       "      <th>Datum (MESZ)</th>\n",
       "    </tr>\n",
       "  </thead>\n",
       "  <tbody>\n",
       "    <tr>\n",
       "      <th>48</th>\n",
       "      <td>2020-01-01 00:00:00</td>\n",
       "      <td>18754.70</td>\n",
       "      <td>13961.99</td>\n",
       "      <td>41.88</td>\n",
       "      <td>NaT</td>\n",
       "    </tr>\n",
       "    <tr>\n",
       "      <th>49</th>\n",
       "      <td>2020-01-01 01:00:00</td>\n",
       "      <td>18337.54</td>\n",
       "      <td>14242.17</td>\n",
       "      <td>38.60</td>\n",
       "      <td>NaT</td>\n",
       "    </tr>\n",
       "    <tr>\n",
       "      <th>50</th>\n",
       "      <td>2020-01-01 02:00:00</td>\n",
       "      <td>18122.83</td>\n",
       "      <td>14584.20</td>\n",
       "      <td>36.55</td>\n",
       "      <td>NaT</td>\n",
       "    </tr>\n",
       "    <tr>\n",
       "      <th>51</th>\n",
       "      <td>2020-01-01 03:00:00</td>\n",
       "      <td>18323.93</td>\n",
       "      <td>14746.24</td>\n",
       "      <td>32.32</td>\n",
       "      <td>NaT</td>\n",
       "    </tr>\n",
       "    <tr>\n",
       "      <th>52</th>\n",
       "      <td>2020-01-01 04:00:00</td>\n",
       "      <td>18327.59</td>\n",
       "      <td>14924.48</td>\n",
       "      <td>30.85</td>\n",
       "      <td>NaT</td>\n",
       "    </tr>\n",
       "    <tr>\n",
       "      <th>...</th>\n",
       "      <td>...</td>\n",
       "      <td>...</td>\n",
       "      <td>...</td>\n",
       "      <td>...</td>\n",
       "      <td>...</td>\n",
       "    </tr>\n",
       "    <tr>\n",
       "      <th>43387</th>\n",
       "      <td>2024-12-10 19:00:00</td>\n",
       "      <td>NaN</td>\n",
       "      <td>NaN</td>\n",
       "      <td>180.17</td>\n",
       "      <td>NaT</td>\n",
       "    </tr>\n",
       "    <tr>\n",
       "      <th>43388</th>\n",
       "      <td>2024-12-10 20:00:00</td>\n",
       "      <td>NaN</td>\n",
       "      <td>NaN</td>\n",
       "      <td>166.60</td>\n",
       "      <td>NaT</td>\n",
       "    </tr>\n",
       "    <tr>\n",
       "      <th>43389</th>\n",
       "      <td>2024-12-10 21:00:00</td>\n",
       "      <td>NaN</td>\n",
       "      <td>NaN</td>\n",
       "      <td>151.15</td>\n",
       "      <td>NaT</td>\n",
       "    </tr>\n",
       "    <tr>\n",
       "      <th>43390</th>\n",
       "      <td>2024-12-10 22:00:00</td>\n",
       "      <td>NaN</td>\n",
       "      <td>NaN</td>\n",
       "      <td>137.94</td>\n",
       "      <td>NaT</td>\n",
       "    </tr>\n",
       "    <tr>\n",
       "      <th>43391</th>\n",
       "      <td>2024-12-10 23:00:00</td>\n",
       "      <td>NaN</td>\n",
       "      <td>NaN</td>\n",
       "      <td>121.37</td>\n",
       "      <td>NaT</td>\n",
       "    </tr>\n",
       "  </tbody>\n",
       "</table>\n",
       "<p>43344 rows × 5 columns</p>\n",
       "</div>"
      ]
     },
     "execution_count": 66,
     "metadata": {},
     "output_type": "execute_result"
    }
   ],
   "execution_count": 66
  },
  {
   "metadata": {
    "ExecuteTime": {
     "end_time": "2024-12-19T14:17:29.094925Z",
     "start_time": "2024-12-19T14:17:29.088651Z"
    }
   },
   "cell_type": "code",
   "source": "",
   "id": "4d00023918d3b47f",
   "outputs": [],
   "execution_count": 66
  },
  {
   "cell_type": "code",
   "source": "",
   "metadata": {
    "collapsed": false,
    "ExecuteTime": {
     "end_time": "2024-12-19T14:17:29.100181Z",
     "start_time": "2024-12-19T14:17:29.096446Z"
    }
   },
   "id": "4f902668ded7219d",
   "outputs": [],
   "execution_count": 66
  },
  {
   "cell_type": "code",
   "source": "",
   "metadata": {
    "collapsed": false,
    "ExecuteTime": {
     "end_time": "2024-12-19T14:17:29.105441Z",
     "start_time": "2024-12-19T14:17:29.100695Z"
    }
   },
   "id": "969222d827847f29",
   "outputs": [],
   "execution_count": 66
  },
  {
   "metadata": {
    "ExecuteTime": {
     "end_time": "2024-12-19T14:17:29.110258Z",
     "start_time": "2024-12-19T14:17:29.105441Z"
    }
   },
   "cell_type": "code",
   "source": "",
   "id": "13fe5e76acbce834",
   "outputs": [],
   "execution_count": 66
  }
 ],
 "metadata": {
  "kernelspec": {
   "display_name": "Python 3",
   "language": "python",
   "name": "python3"
  },
  "language_info": {
   "codemirror_mode": {
    "name": "ipython",
    "version": 2
   },
   "file_extension": ".py",
   "mimetype": "text/x-python",
   "name": "python",
   "nbconvert_exporter": "python",
   "pygments_lexer": "ipython2",
   "version": "2.7.6"
  }
 },
 "nbformat": 4,
 "nbformat_minor": 5
}
