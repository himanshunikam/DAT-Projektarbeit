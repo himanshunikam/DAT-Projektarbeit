{
 "cells": [
  {
   "metadata": {},
   "cell_type": "markdown",
   "source": [
    "# Aufgabe 1\n",
    "**a) Lesen Sie die CSV-Dateien,die die Stromerzeugungsdaten und Börsenstrompreise enthalten ein und führen Sie sie in einem DataFrame namens `df_hourly` zusammen.**"
   ],
   "id": "897e83a5fa2f94c3"
  },
  {
   "metadata": {
    "ExecuteTime": {
     "end_time": "2024-12-21T13:29:55.582122Z",
     "start_time": "2024-12-21T13:29:55.160422Z"
    }
   },
   "cell_type": "code",
   "source": [
    "import os\n",
    "\n",
    "import numpy as np\n",
    "import pandas as pd\n",
    "path = 'DAT-WS2425-Projektarbeit\\DAT-WS2425-Projektarbeit\\Daten\\Strompreisdaten'\n",
    "extension = '.csv'\n",
    "pd.set_option('display.max_rows', 10)\n",
    "pd.set_option('display.max_columns', 500)\n",
    "files = [file for file in os.listdir(path) if file.endswith(extension)]\n",
    "\n",
    "dfs = []\n",
    "filecounter =0\n",
    "for file in files:\n",
    "    df = pd.read_csv(os.path.join(path, file))\n",
    "    dfs.append(df)\n",
    "    filecounter += 1\n",
    "    \n",
    "print(\"total files: \", filecounter)\n",
    "df = pd.concat(dfs, ignore_index=True)"
   ],
   "id": "81c61995734daabb",
   "outputs": [
    {
     "name": "stdout",
     "output_type": "stream",
     "text": [
      "total files:  258\n"
     ]
    }
   ],
   "execution_count": 102
  },
  {
   "metadata": {},
   "cell_type": "markdown",
   "source": [
    "**b) Passen Sie die dtypes der Spalten von `df_hourly` geeignet an. Überführen Sie insbesondere das Datum in ein DateTime-Format. Entfernen Sie alle Datensätze, die sich nicht auf\n",
    " den Betrachtungszeitraum 2020-2024 beziehen.**"
   ],
   "id": "43038d8b93146154"
  },
  {
   "cell_type": "code",
   "source": [
    "df['Datum (MEZ)'] = pd.to_datetime(df['Datum (MEZ)'])\n",
    "df['Datum (MESZ)'] = pd.to_datetime(df['Datum (MESZ)'])\n",
    "print(len(df['Datum (MESZ)']))"
   ],
   "metadata": {
    "collapsed": false,
    "ExecuteTime": {
     "end_time": "2024-12-21T13:29:55.633402Z",
     "start_time": "2024-12-21T13:29:55.582122Z"
    }
   },
   "id": "2a598676712d7408",
   "outputs": [
    {
     "name": "stdout",
     "output_type": "stream",
     "text": [
      "43392\n"
     ]
    }
   ],
   "execution_count": 103
  },
  {
   "cell_type": "code",
   "source": [
    "df = df.drop(df[df['Datum (MEZ)']<'2020-01-01'].index)"
   ],
   "metadata": {
    "collapsed": false,
    "ExecuteTime": {
     "end_time": "2024-12-21T13:29:55.643115Z",
     "start_time": "2024-12-21T13:29:55.633402Z"
    }
   },
   "id": "5b151fbe6329089",
   "outputs": [],
   "execution_count": 104
  },
  {
   "metadata": {},
   "cell_type": "markdown",
   "source": "**c) Beurteilen Sie die Datenqualität des Datensatzes und führen Sie, sofern aus Ihrer Sicht notwendig, geeignete Datenbereinigungsschritte durch.**",
   "id": "d2b2f439823eb006"
  },
  {
   "metadata": {
    "ExecuteTime": {
     "end_time": "2024-12-21T13:29:55.679505Z",
     "start_time": "2024-12-21T13:29:55.643115Z"
    }
   },
   "cell_type": "code",
   "source": [
    "# Separating and Creating new columns for Date and Time from Datum (MEZ) and Datum (MESZ)\n",
    "df['Datum'] = df['Datum (MEZ)'].dt.date\n",
    "df['Zeit'] = df['Datum (MEZ)'].dt.time\n",
    "df['Datum'] =df['Datum'].fillna(df['Datum (MESZ)'].dt.date)\n",
    "df['Zeit'] =df['Zeit'].fillna(df['Datum (MESZ)'].dt.time)\n",
    "cols = df.columns.tolist()\n",
    "print(cols)"
   ],
   "id": "31a293829d5090fc",
   "outputs": [
    {
     "name": "stdout",
     "output_type": "stream",
     "text": [
      "['Datum (MEZ)', 'Leistung nicht erneuerbar (MW)', 'Leistung erneuerbar (MW)', 'Day Ahead Auktion Preis (EUR/MWh)', 'Datum (MESZ)', 'Datum', 'Zeit']\n"
     ]
    }
   ],
   "execution_count": 105
  },
  {
   "metadata": {
    "ExecuteTime": {
     "end_time": "2024-12-21T13:29:55.698121Z",
     "start_time": "2024-12-21T13:29:55.679505Z"
    }
   },
   "cell_type": "code",
   "source": [
    "cols = ['Datum', 'Zeit','Datum (MEZ)', 'Leistung nicht erneuerbar (MW)', 'Leistung erneuerbar (MW)', 'Day Ahead Auktion Preis (EUR/MWh)', 'Datum (MESZ)']\n",
    "df = df[cols]\n",
    "df = df.drop(columns=['Datum (MEZ)', 'Datum (MESZ)'])\n",
    "df = df.reset_index(drop=True)\n",
    "df"
   ],
   "id": "a29a9480c61a883c",
   "outputs": [
    {
     "data": {
      "text/plain": [
       "            Datum      Zeit  Leistung nicht erneuerbar (MW)  \\\n",
       "0      2020-01-01  00:00:00                        18754.70   \n",
       "1      2020-01-01  01:00:00                        18337.54   \n",
       "2      2020-01-01  02:00:00                        18122.83   \n",
       "3      2020-01-01  03:00:00                        18323.93   \n",
       "4      2020-01-01  04:00:00                        18327.59   \n",
       "...           ...       ...                             ...   \n",
       "43339  2024-12-10  19:00:00                             NaN   \n",
       "43340  2024-12-10  20:00:00                             NaN   \n",
       "43341  2024-12-10  21:00:00                             NaN   \n",
       "43342  2024-12-10  22:00:00                             NaN   \n",
       "43343  2024-12-10  23:00:00                             NaN   \n",
       "\n",
       "       Leistung erneuerbar (MW)  Day Ahead Auktion Preis (EUR/MWh)  \n",
       "0                      13961.99                              41.88  \n",
       "1                      14242.17                              38.60  \n",
       "2                      14584.20                              36.55  \n",
       "3                      14746.24                              32.32  \n",
       "4                      14924.48                              30.85  \n",
       "...                         ...                                ...  \n",
       "43339                       NaN                             180.17  \n",
       "43340                       NaN                             166.60  \n",
       "43341                       NaN                             151.15  \n",
       "43342                       NaN                             137.94  \n",
       "43343                       NaN                             121.37  \n",
       "\n",
       "[43344 rows x 5 columns]"
      ],
      "text/html": [
       "<div>\n",
       "<style scoped>\n",
       "    .dataframe tbody tr th:only-of-type {\n",
       "        vertical-align: middle;\n",
       "    }\n",
       "\n",
       "    .dataframe tbody tr th {\n",
       "        vertical-align: top;\n",
       "    }\n",
       "\n",
       "    .dataframe thead th {\n",
       "        text-align: right;\n",
       "    }\n",
       "</style>\n",
       "<table border=\"1\" class=\"dataframe\">\n",
       "  <thead>\n",
       "    <tr style=\"text-align: right;\">\n",
       "      <th></th>\n",
       "      <th>Datum</th>\n",
       "      <th>Zeit</th>\n",
       "      <th>Leistung nicht erneuerbar (MW)</th>\n",
       "      <th>Leistung erneuerbar (MW)</th>\n",
       "      <th>Day Ahead Auktion Preis (EUR/MWh)</th>\n",
       "    </tr>\n",
       "  </thead>\n",
       "  <tbody>\n",
       "    <tr>\n",
       "      <th>0</th>\n",
       "      <td>2020-01-01</td>\n",
       "      <td>00:00:00</td>\n",
       "      <td>18754.70</td>\n",
       "      <td>13961.99</td>\n",
       "      <td>41.88</td>\n",
       "    </tr>\n",
       "    <tr>\n",
       "      <th>1</th>\n",
       "      <td>2020-01-01</td>\n",
       "      <td>01:00:00</td>\n",
       "      <td>18337.54</td>\n",
       "      <td>14242.17</td>\n",
       "      <td>38.60</td>\n",
       "    </tr>\n",
       "    <tr>\n",
       "      <th>2</th>\n",
       "      <td>2020-01-01</td>\n",
       "      <td>02:00:00</td>\n",
       "      <td>18122.83</td>\n",
       "      <td>14584.20</td>\n",
       "      <td>36.55</td>\n",
       "    </tr>\n",
       "    <tr>\n",
       "      <th>3</th>\n",
       "      <td>2020-01-01</td>\n",
       "      <td>03:00:00</td>\n",
       "      <td>18323.93</td>\n",
       "      <td>14746.24</td>\n",
       "      <td>32.32</td>\n",
       "    </tr>\n",
       "    <tr>\n",
       "      <th>4</th>\n",
       "      <td>2020-01-01</td>\n",
       "      <td>04:00:00</td>\n",
       "      <td>18327.59</td>\n",
       "      <td>14924.48</td>\n",
       "      <td>30.85</td>\n",
       "    </tr>\n",
       "    <tr>\n",
       "      <th>...</th>\n",
       "      <td>...</td>\n",
       "      <td>...</td>\n",
       "      <td>...</td>\n",
       "      <td>...</td>\n",
       "      <td>...</td>\n",
       "    </tr>\n",
       "    <tr>\n",
       "      <th>43339</th>\n",
       "      <td>2024-12-10</td>\n",
       "      <td>19:00:00</td>\n",
       "      <td>NaN</td>\n",
       "      <td>NaN</td>\n",
       "      <td>180.17</td>\n",
       "    </tr>\n",
       "    <tr>\n",
       "      <th>43340</th>\n",
       "      <td>2024-12-10</td>\n",
       "      <td>20:00:00</td>\n",
       "      <td>NaN</td>\n",
       "      <td>NaN</td>\n",
       "      <td>166.60</td>\n",
       "    </tr>\n",
       "    <tr>\n",
       "      <th>43341</th>\n",
       "      <td>2024-12-10</td>\n",
       "      <td>21:00:00</td>\n",
       "      <td>NaN</td>\n",
       "      <td>NaN</td>\n",
       "      <td>151.15</td>\n",
       "    </tr>\n",
       "    <tr>\n",
       "      <th>43342</th>\n",
       "      <td>2024-12-10</td>\n",
       "      <td>22:00:00</td>\n",
       "      <td>NaN</td>\n",
       "      <td>NaN</td>\n",
       "      <td>137.94</td>\n",
       "    </tr>\n",
       "    <tr>\n",
       "      <th>43343</th>\n",
       "      <td>2024-12-10</td>\n",
       "      <td>23:00:00</td>\n",
       "      <td>NaN</td>\n",
       "      <td>NaN</td>\n",
       "      <td>121.37</td>\n",
       "    </tr>\n",
       "  </tbody>\n",
       "</table>\n",
       "<p>43344 rows × 5 columns</p>\n",
       "</div>"
      ]
     },
     "execution_count": 106,
     "metadata": {},
     "output_type": "execute_result"
    }
   ],
   "execution_count": 106
  },
  {
   "metadata": {},
   "cell_type": "markdown",
   "source": [
    "**d) Erzeugen Sie aus `df_hourly` einen weiteren DataFrame namens `df_daily`, der in jeder\n",
    " Zeile die erzeugte elektrische Energie mit erneuerbaren und nicht erneuerbaren Energie\n",
    "trägern sowie den an diesem Tag durchschnittlich gemessenen Börsenstrompreis enthält.**"
   ],
   "id": "58ce5cec7cc49921"
  },
  {
   "metadata": {
    "ExecuteTime": {
     "end_time": "2024-12-21T13:29:55.717283Z",
     "start_time": "2024-12-21T13:29:55.698121Z"
    }
   },
   "cell_type": "code",
   "source": [
    "# New df_daily with sum of Leistung and average of Auktion preis for every day\n",
    "df_daily = df.groupby(['Datum']).agg({'Leistung nicht erneuerbar (MW)': 'sum', 'Leistung erneuerbar (MW)': 'sum', 'Day Ahead Auktion Preis (EUR/MWh)' : 'mean'}).reset_index()\n",
    "df_daily"
   ],
   "id": "dc36e9984da5bcb2",
   "outputs": [
    {
     "data": {
      "text/plain": [
       "           Datum  Leistung nicht erneuerbar (MW)  Leistung erneuerbar (MW)  \\\n",
       "0     2020-01-01                       468837.03                 441093.57   \n",
       "1     2020-01-02                       505002.46                 605620.76   \n",
       "2     2020-01-03                       427798.33                 968577.88   \n",
       "3     2020-01-04                       411321.40                 987041.46   \n",
       "4     2020-01-05                       508187.80                 514534.00   \n",
       "...          ...                             ...                       ...   \n",
       "1801  2024-12-06                       482833.73                 969065.85   \n",
       "1802  2024-12-07                       386654.54                 834428.48   \n",
       "1803  2024-12-08                       455016.51                 609461.18   \n",
       "1804  2024-12-09                       491439.42                 833223.84   \n",
       "1805  2024-12-10                            0.00                      0.00   \n",
       "\n",
       "      Day Ahead Auktion Preis (EUR/MWh)  \n",
       "0                             34.964167  \n",
       "1                             38.869167  \n",
       "2                             26.111250  \n",
       "3                             20.322917  \n",
       "4                             35.552500  \n",
       "...                                 ...  \n",
       "1801                          86.374583  \n",
       "1802                          71.508333  \n",
       "1803                          99.068333  \n",
       "1804                          99.591250  \n",
       "1805                         149.928750  \n",
       "\n",
       "[1806 rows x 4 columns]"
      ],
      "text/html": [
       "<div>\n",
       "<style scoped>\n",
       "    .dataframe tbody tr th:only-of-type {\n",
       "        vertical-align: middle;\n",
       "    }\n",
       "\n",
       "    .dataframe tbody tr th {\n",
       "        vertical-align: top;\n",
       "    }\n",
       "\n",
       "    .dataframe thead th {\n",
       "        text-align: right;\n",
       "    }\n",
       "</style>\n",
       "<table border=\"1\" class=\"dataframe\">\n",
       "  <thead>\n",
       "    <tr style=\"text-align: right;\">\n",
       "      <th></th>\n",
       "      <th>Datum</th>\n",
       "      <th>Leistung nicht erneuerbar (MW)</th>\n",
       "      <th>Leistung erneuerbar (MW)</th>\n",
       "      <th>Day Ahead Auktion Preis (EUR/MWh)</th>\n",
       "    </tr>\n",
       "  </thead>\n",
       "  <tbody>\n",
       "    <tr>\n",
       "      <th>0</th>\n",
       "      <td>2020-01-01</td>\n",
       "      <td>468837.03</td>\n",
       "      <td>441093.57</td>\n",
       "      <td>34.964167</td>\n",
       "    </tr>\n",
       "    <tr>\n",
       "      <th>1</th>\n",
       "      <td>2020-01-02</td>\n",
       "      <td>505002.46</td>\n",
       "      <td>605620.76</td>\n",
       "      <td>38.869167</td>\n",
       "    </tr>\n",
       "    <tr>\n",
       "      <th>2</th>\n",
       "      <td>2020-01-03</td>\n",
       "      <td>427798.33</td>\n",
       "      <td>968577.88</td>\n",
       "      <td>26.111250</td>\n",
       "    </tr>\n",
       "    <tr>\n",
       "      <th>3</th>\n",
       "      <td>2020-01-04</td>\n",
       "      <td>411321.40</td>\n",
       "      <td>987041.46</td>\n",
       "      <td>20.322917</td>\n",
       "    </tr>\n",
       "    <tr>\n",
       "      <th>4</th>\n",
       "      <td>2020-01-05</td>\n",
       "      <td>508187.80</td>\n",
       "      <td>514534.00</td>\n",
       "      <td>35.552500</td>\n",
       "    </tr>\n",
       "    <tr>\n",
       "      <th>...</th>\n",
       "      <td>...</td>\n",
       "      <td>...</td>\n",
       "      <td>...</td>\n",
       "      <td>...</td>\n",
       "    </tr>\n",
       "    <tr>\n",
       "      <th>1801</th>\n",
       "      <td>2024-12-06</td>\n",
       "      <td>482833.73</td>\n",
       "      <td>969065.85</td>\n",
       "      <td>86.374583</td>\n",
       "    </tr>\n",
       "    <tr>\n",
       "      <th>1802</th>\n",
       "      <td>2024-12-07</td>\n",
       "      <td>386654.54</td>\n",
       "      <td>834428.48</td>\n",
       "      <td>71.508333</td>\n",
       "    </tr>\n",
       "    <tr>\n",
       "      <th>1803</th>\n",
       "      <td>2024-12-08</td>\n",
       "      <td>455016.51</td>\n",
       "      <td>609461.18</td>\n",
       "      <td>99.068333</td>\n",
       "    </tr>\n",
       "    <tr>\n",
       "      <th>1804</th>\n",
       "      <td>2024-12-09</td>\n",
       "      <td>491439.42</td>\n",
       "      <td>833223.84</td>\n",
       "      <td>99.591250</td>\n",
       "    </tr>\n",
       "    <tr>\n",
       "      <th>1805</th>\n",
       "      <td>2024-12-10</td>\n",
       "      <td>0.00</td>\n",
       "      <td>0.00</td>\n",
       "      <td>149.928750</td>\n",
       "    </tr>\n",
       "  </tbody>\n",
       "</table>\n",
       "<p>1806 rows × 4 columns</p>\n",
       "</div>"
      ]
     },
     "execution_count": 107,
     "metadata": {},
     "output_type": "execute_result"
    }
   ],
   "execution_count": 107
  },
  {
   "metadata": {},
   "cell_type": "markdown",
   "source": [],
   "id": "197fc916f5fc55f3"
  },
  {
   "metadata": {},
   "cell_type": "markdown",
   "source": [
    "# Aufagbe 2\n",
    "\n",
    "**a) An welchen 10 Tagen im Betrachtungszeitrum wurde am meisten Strom aus erneuerbaren Energieträgern erzeugt?**"
   ],
   "id": "b8efd7e66ff4e21a"
  },
  {
   "metadata": {
    "ExecuteTime": {
     "end_time": "2024-12-21T13:29:55.728127Z",
     "start_time": "2024-12-21T13:29:55.717283Z"
    }
   },
   "cell_type": "code",
   "source": "df_daily.sort_values('Leistung erneuerbar (MW)', ascending=False).head(10)",
   "id": "9698037ce98695a2",
   "outputs": [
    {
     "data": {
      "text/plain": [
       "           Datum  Leistung nicht erneuerbar (MW)  Leistung erneuerbar (MW)  \\\n",
       "1497  2024-02-06                       331773.90                1380463.41   \n",
       "1496  2024-02-05                       331039.23                1358926.97   \n",
       "1484  2024-01-24                       351983.99                1316391.11   \n",
       "1450  2023-12-21                       275886.68                1308032.94   \n",
       "1451  2023-12-22                       242307.14                1289984.86   \n",
       "827   2022-04-07                       396999.16                1274027.01   \n",
       "778   2022-02-17                       381238.33                1271433.30   \n",
       "1731  2024-09-27                       198813.32                1269933.18   \n",
       "1458  2023-12-29                       221981.80                1261365.77   \n",
       "41    2020-02-11                       351153.81                1257586.20   \n",
       "\n",
       "      Day Ahead Auktion Preis (EUR/MWh)  \n",
       "1497                          45.292917  \n",
       "1496                          35.840833  \n",
       "1484                          33.122917  \n",
       "1450                          25.280417  \n",
       "1451                          22.655833  \n",
       "827                           74.153333  \n",
       "778                           68.637083  \n",
       "1731                          14.757500  \n",
       "1458                           6.359583  \n",
       "41                            11.620000  "
      ],
      "text/html": [
       "<div>\n",
       "<style scoped>\n",
       "    .dataframe tbody tr th:only-of-type {\n",
       "        vertical-align: middle;\n",
       "    }\n",
       "\n",
       "    .dataframe tbody tr th {\n",
       "        vertical-align: top;\n",
       "    }\n",
       "\n",
       "    .dataframe thead th {\n",
       "        text-align: right;\n",
       "    }\n",
       "</style>\n",
       "<table border=\"1\" class=\"dataframe\">\n",
       "  <thead>\n",
       "    <tr style=\"text-align: right;\">\n",
       "      <th></th>\n",
       "      <th>Datum</th>\n",
       "      <th>Leistung nicht erneuerbar (MW)</th>\n",
       "      <th>Leistung erneuerbar (MW)</th>\n",
       "      <th>Day Ahead Auktion Preis (EUR/MWh)</th>\n",
       "    </tr>\n",
       "  </thead>\n",
       "  <tbody>\n",
       "    <tr>\n",
       "      <th>1497</th>\n",
       "      <td>2024-02-06</td>\n",
       "      <td>331773.90</td>\n",
       "      <td>1380463.41</td>\n",
       "      <td>45.292917</td>\n",
       "    </tr>\n",
       "    <tr>\n",
       "      <th>1496</th>\n",
       "      <td>2024-02-05</td>\n",
       "      <td>331039.23</td>\n",
       "      <td>1358926.97</td>\n",
       "      <td>35.840833</td>\n",
       "    </tr>\n",
       "    <tr>\n",
       "      <th>1484</th>\n",
       "      <td>2024-01-24</td>\n",
       "      <td>351983.99</td>\n",
       "      <td>1316391.11</td>\n",
       "      <td>33.122917</td>\n",
       "    </tr>\n",
       "    <tr>\n",
       "      <th>1450</th>\n",
       "      <td>2023-12-21</td>\n",
       "      <td>275886.68</td>\n",
       "      <td>1308032.94</td>\n",
       "      <td>25.280417</td>\n",
       "    </tr>\n",
       "    <tr>\n",
       "      <th>1451</th>\n",
       "      <td>2023-12-22</td>\n",
       "      <td>242307.14</td>\n",
       "      <td>1289984.86</td>\n",
       "      <td>22.655833</td>\n",
       "    </tr>\n",
       "    <tr>\n",
       "      <th>827</th>\n",
       "      <td>2022-04-07</td>\n",
       "      <td>396999.16</td>\n",
       "      <td>1274027.01</td>\n",
       "      <td>74.153333</td>\n",
       "    </tr>\n",
       "    <tr>\n",
       "      <th>778</th>\n",
       "      <td>2022-02-17</td>\n",
       "      <td>381238.33</td>\n",
       "      <td>1271433.30</td>\n",
       "      <td>68.637083</td>\n",
       "    </tr>\n",
       "    <tr>\n",
       "      <th>1731</th>\n",
       "      <td>2024-09-27</td>\n",
       "      <td>198813.32</td>\n",
       "      <td>1269933.18</td>\n",
       "      <td>14.757500</td>\n",
       "    </tr>\n",
       "    <tr>\n",
       "      <th>1458</th>\n",
       "      <td>2023-12-29</td>\n",
       "      <td>221981.80</td>\n",
       "      <td>1261365.77</td>\n",
       "      <td>6.359583</td>\n",
       "    </tr>\n",
       "    <tr>\n",
       "      <th>41</th>\n",
       "      <td>2020-02-11</td>\n",
       "      <td>351153.81</td>\n",
       "      <td>1257586.20</td>\n",
       "      <td>11.620000</td>\n",
       "    </tr>\n",
       "  </tbody>\n",
       "</table>\n",
       "</div>"
      ]
     },
     "execution_count": 108,
     "metadata": {},
     "output_type": "execute_result"
    }
   ],
   "execution_count": 108
  },
  {
   "metadata": {},
   "cell_type": "markdown",
   "source": "**b) An welchem Tag im Betrachtungszeitraum wurde der höchste Bösenstrompreis verzeichnet und wie hoch war er? An welchem Tag wurde der geringste Preis verzeichnet und wie hoch war er?**",
   "id": "abf00cb13ea32f1f"
  },
  {
   "metadata": {
    "ExecuteTime": {
     "end_time": "2024-12-21T13:29:55.740733Z",
     "start_time": "2024-12-21T13:29:55.728127Z"
    }
   },
   "cell_type": "code",
   "source": "df_daily[df_daily['Day Ahead Auktion Preis (EUR/MWh)'] == df_daily['Day Ahead Auktion Preis (EUR/MWh)'].max()]",
   "id": "31da395ef9275497",
   "outputs": [
    {
     "data": {
      "text/plain": [
       "          Datum  Leistung nicht erneuerbar (MW)  Leistung erneuerbar (MW)  \\\n",
       "968  2022-08-26                       640735.36                 493492.08   \n",
       "\n",
       "     Day Ahead Auktion Preis (EUR/MWh)  \n",
       "968                         699.441667  "
      ],
      "text/html": [
       "<div>\n",
       "<style scoped>\n",
       "    .dataframe tbody tr th:only-of-type {\n",
       "        vertical-align: middle;\n",
       "    }\n",
       "\n",
       "    .dataframe tbody tr th {\n",
       "        vertical-align: top;\n",
       "    }\n",
       "\n",
       "    .dataframe thead th {\n",
       "        text-align: right;\n",
       "    }\n",
       "</style>\n",
       "<table border=\"1\" class=\"dataframe\">\n",
       "  <thead>\n",
       "    <tr style=\"text-align: right;\">\n",
       "      <th></th>\n",
       "      <th>Datum</th>\n",
       "      <th>Leistung nicht erneuerbar (MW)</th>\n",
       "      <th>Leistung erneuerbar (MW)</th>\n",
       "      <th>Day Ahead Auktion Preis (EUR/MWh)</th>\n",
       "    </tr>\n",
       "  </thead>\n",
       "  <tbody>\n",
       "    <tr>\n",
       "      <th>968</th>\n",
       "      <td>2022-08-26</td>\n",
       "      <td>640735.36</td>\n",
       "      <td>493492.08</td>\n",
       "      <td>699.441667</td>\n",
       "    </tr>\n",
       "  </tbody>\n",
       "</table>\n",
       "</div>"
      ]
     },
     "execution_count": 109,
     "metadata": {},
     "output_type": "execute_result"
    }
   ],
   "execution_count": 109
  },
  {
   "metadata": {
    "ExecuteTime": {
     "end_time": "2024-12-21T13:29:55.754383Z",
     "start_time": "2024-12-21T13:29:55.742287Z"
    }
   },
   "cell_type": "code",
   "source": "df_daily[df_daily['Day Ahead Auktion Preis (EUR/MWh)'] == df_daily['Day Ahead Auktion Preis (EUR/MWh)'].min()]",
   "id": "65f556b30bdb14b",
   "outputs": [
    {
     "data": {
      "text/plain": [
       "           Datum  Leistung nicht erneuerbar (MW)  Leistung erneuerbar (MW)  \\\n",
       "1278  2023-07-02                       183483.62                 940768.39   \n",
       "\n",
       "      Day Ahead Auktion Preis (EUR/MWh)  \n",
       "1278                         -53.870833  "
      ],
      "text/html": [
       "<div>\n",
       "<style scoped>\n",
       "    .dataframe tbody tr th:only-of-type {\n",
       "        vertical-align: middle;\n",
       "    }\n",
       "\n",
       "    .dataframe tbody tr th {\n",
       "        vertical-align: top;\n",
       "    }\n",
       "\n",
       "    .dataframe thead th {\n",
       "        text-align: right;\n",
       "    }\n",
       "</style>\n",
       "<table border=\"1\" class=\"dataframe\">\n",
       "  <thead>\n",
       "    <tr style=\"text-align: right;\">\n",
       "      <th></th>\n",
       "      <th>Datum</th>\n",
       "      <th>Leistung nicht erneuerbar (MW)</th>\n",
       "      <th>Leistung erneuerbar (MW)</th>\n",
       "      <th>Day Ahead Auktion Preis (EUR/MWh)</th>\n",
       "    </tr>\n",
       "  </thead>\n",
       "  <tbody>\n",
       "    <tr>\n",
       "      <th>1278</th>\n",
       "      <td>2023-07-02</td>\n",
       "      <td>183483.62</td>\n",
       "      <td>940768.39</td>\n",
       "      <td>-53.870833</td>\n",
       "    </tr>\n",
       "  </tbody>\n",
       "</table>\n",
       "</div>"
      ]
     },
     "execution_count": 110,
     "metadata": {},
     "output_type": "execute_result"
    }
   ],
   "execution_count": 110
  },
  {
   "metadata": {},
   "cell_type": "markdown",
   "source": "**c) Wie viele Tage gab es im Betrachtungszeitraum 2020-2024, an denen ein negativer Börsenstrompreis aufgetreten ist?**",
   "id": "f7f0082e58f0b5aa"
  },
  {
   "metadata": {
    "ExecuteTime": {
     "end_time": "2024-12-21T13:29:55.762884Z",
     "start_time": "2024-12-21T13:29:55.756637Z"
    }
   },
   "cell_type": "code",
   "source": "print(len(df_daily[df_daily['Day Ahead Auktion Preis (EUR/MWh)'] < 0]))",
   "id": "edc36f04f8c2ac49",
   "outputs": [
    {
     "name": "stdout",
     "output_type": "stream",
     "text": [
      "13\n"
     ]
    }
   ],
   "execution_count": 111
  },
  {
   "metadata": {
    "ExecuteTime": {
     "end_time": "2024-12-21T13:29:55.779599Z",
     "start_time": "2024-12-21T13:29:55.764405Z"
    }
   },
   "cell_type": "code",
   "source": "df_daily[df_daily['Day Ahead Auktion Preis (EUR/MWh)'] < 0]",
   "id": "8521080e90faafc4",
   "outputs": [
    {
     "data": {
      "text/plain": [
       "           Datum  Leistung nicht erneuerbar (MW)  Leistung erneuerbar (MW)  \\\n",
       "46    2020-02-16                       252739.69                1152357.76   \n",
       "52    2020-02-22                       243166.11                1236952.50   \n",
       "81    2020-03-22                       260187.93                 969434.27   \n",
       "103   2020-04-13                       204282.71                 875000.49   \n",
       "111   2020-04-21                       218578.73                1151305.34   \n",
       "...          ...                             ...                       ...   \n",
       "460   2021-04-05                       227435.87                1056971.92   \n",
       "507   2021-05-22                       189386.15                1076837.53   \n",
       "1095  2022-12-31                       230450.27                 953465.27   \n",
       "1278  2023-07-02                       183483.62                 940768.39   \n",
       "1453  2023-12-24                       203325.85                1154018.38   \n",
       "\n",
       "      Day Ahead Auktion Preis (EUR/MWh)  \n",
       "46                            -8.274167  \n",
       "52                            -1.508750  \n",
       "81                            -0.947083  \n",
       "103                          -15.966250  \n",
       "111                          -16.149583  \n",
       "...                                 ...  \n",
       "460                          -16.996667  \n",
       "507                           -7.039167  \n",
       "1095                          -0.792083  \n",
       "1278                         -53.870833  \n",
       "1453                          -3.370833  \n",
       "\n",
       "[13 rows x 4 columns]"
      ],
      "text/html": [
       "<div>\n",
       "<style scoped>\n",
       "    .dataframe tbody tr th:only-of-type {\n",
       "        vertical-align: middle;\n",
       "    }\n",
       "\n",
       "    .dataframe tbody tr th {\n",
       "        vertical-align: top;\n",
       "    }\n",
       "\n",
       "    .dataframe thead th {\n",
       "        text-align: right;\n",
       "    }\n",
       "</style>\n",
       "<table border=\"1\" class=\"dataframe\">\n",
       "  <thead>\n",
       "    <tr style=\"text-align: right;\">\n",
       "      <th></th>\n",
       "      <th>Datum</th>\n",
       "      <th>Leistung nicht erneuerbar (MW)</th>\n",
       "      <th>Leistung erneuerbar (MW)</th>\n",
       "      <th>Day Ahead Auktion Preis (EUR/MWh)</th>\n",
       "    </tr>\n",
       "  </thead>\n",
       "  <tbody>\n",
       "    <tr>\n",
       "      <th>46</th>\n",
       "      <td>2020-02-16</td>\n",
       "      <td>252739.69</td>\n",
       "      <td>1152357.76</td>\n",
       "      <td>-8.274167</td>\n",
       "    </tr>\n",
       "    <tr>\n",
       "      <th>52</th>\n",
       "      <td>2020-02-22</td>\n",
       "      <td>243166.11</td>\n",
       "      <td>1236952.50</td>\n",
       "      <td>-1.508750</td>\n",
       "    </tr>\n",
       "    <tr>\n",
       "      <th>81</th>\n",
       "      <td>2020-03-22</td>\n",
       "      <td>260187.93</td>\n",
       "      <td>969434.27</td>\n",
       "      <td>-0.947083</td>\n",
       "    </tr>\n",
       "    <tr>\n",
       "      <th>103</th>\n",
       "      <td>2020-04-13</td>\n",
       "      <td>204282.71</td>\n",
       "      <td>875000.49</td>\n",
       "      <td>-15.966250</td>\n",
       "    </tr>\n",
       "    <tr>\n",
       "      <th>111</th>\n",
       "      <td>2020-04-21</td>\n",
       "      <td>218578.73</td>\n",
       "      <td>1151305.34</td>\n",
       "      <td>-16.149583</td>\n",
       "    </tr>\n",
       "    <tr>\n",
       "      <th>...</th>\n",
       "      <td>...</td>\n",
       "      <td>...</td>\n",
       "      <td>...</td>\n",
       "      <td>...</td>\n",
       "    </tr>\n",
       "    <tr>\n",
       "      <th>460</th>\n",
       "      <td>2021-04-05</td>\n",
       "      <td>227435.87</td>\n",
       "      <td>1056971.92</td>\n",
       "      <td>-16.996667</td>\n",
       "    </tr>\n",
       "    <tr>\n",
       "      <th>507</th>\n",
       "      <td>2021-05-22</td>\n",
       "      <td>189386.15</td>\n",
       "      <td>1076837.53</td>\n",
       "      <td>-7.039167</td>\n",
       "    </tr>\n",
       "    <tr>\n",
       "      <th>1095</th>\n",
       "      <td>2022-12-31</td>\n",
       "      <td>230450.27</td>\n",
       "      <td>953465.27</td>\n",
       "      <td>-0.792083</td>\n",
       "    </tr>\n",
       "    <tr>\n",
       "      <th>1278</th>\n",
       "      <td>2023-07-02</td>\n",
       "      <td>183483.62</td>\n",
       "      <td>940768.39</td>\n",
       "      <td>-53.870833</td>\n",
       "    </tr>\n",
       "    <tr>\n",
       "      <th>1453</th>\n",
       "      <td>2023-12-24</td>\n",
       "      <td>203325.85</td>\n",
       "      <td>1154018.38</td>\n",
       "      <td>-3.370833</td>\n",
       "    </tr>\n",
       "  </tbody>\n",
       "</table>\n",
       "<p>13 rows × 4 columns</p>\n",
       "</div>"
      ]
     },
     "execution_count": 112,
     "metadata": {},
     "output_type": "execute_result"
    }
   ],
   "execution_count": 112
  },
  {
   "metadata": {},
   "cell_type": "markdown",
   "source": "**d) Wie viel Strom wurde pro Jahr mit erneuerbaren und mit nicht erneuerbaren Energieträgernerzeugt?**",
   "id": "1484e484dd528cde"
  },
  {
   "metadata": {
    "ExecuteTime": {
     "end_time": "2024-12-21T13:29:55.784231Z",
     "start_time": "2024-12-21T13:29:55.781147Z"
    }
   },
   "cell_type": "code",
   "source": "df2 = df",
   "id": "ff3d435629076d02",
   "outputs": [],
   "execution_count": 113
  },
  {
   "metadata": {
    "ExecuteTime": {
     "end_time": "2024-12-21T13:49:12.669868Z",
     "start_time": "2024-12-21T13:49:12.647178Z"
    }
   },
   "cell_type": "code",
   "source": [
    "df2['Jahr'] = pd.DatetimeIndex(df2['Datum']).year\n",
    "df_yearly = df2.groupby(['Jahr']).agg({'Leistung nicht erneuerbar (MW)':'sum', 'Leistung erneuerbar (MW)':'sum'}).reset_index()\n",
    "df2"
   ],
   "id": "8c419273b6464eeb",
   "outputs": [
    {
     "data": {
      "text/plain": [
       "            Datum      Zeit  Leistung nicht erneuerbar (MW)  \\\n",
       "0      2020-01-01  00:00:00                        18754.70   \n",
       "1      2020-01-01  01:00:00                        18337.54   \n",
       "2      2020-01-01  02:00:00                        18122.83   \n",
       "3      2020-01-01  03:00:00                        18323.93   \n",
       "4      2020-01-01  04:00:00                        18327.59   \n",
       "...           ...       ...                             ...   \n",
       "43339  2024-12-10  19:00:00                             NaN   \n",
       "43340  2024-12-10  20:00:00                             NaN   \n",
       "43341  2024-12-10  21:00:00                             NaN   \n",
       "43342  2024-12-10  22:00:00                             NaN   \n",
       "43343  2024-12-10  23:00:00                             NaN   \n",
       "\n",
       "       Leistung erneuerbar (MW)  Day Ahead Auktion Preis (EUR/MWh)  Jahr  \n",
       "0                      13961.99                              41.88  2020  \n",
       "1                      14242.17                              38.60  2020  \n",
       "2                      14584.20                              36.55  2020  \n",
       "3                      14746.24                              32.32  2020  \n",
       "4                      14924.48                              30.85  2020  \n",
       "...                         ...                                ...   ...  \n",
       "43339                       NaN                             180.17  2024  \n",
       "43340                       NaN                             166.60  2024  \n",
       "43341                       NaN                             151.15  2024  \n",
       "43342                       NaN                             137.94  2024  \n",
       "43343                       NaN                             121.37  2024  \n",
       "\n",
       "[43344 rows x 6 columns]"
      ],
      "text/html": [
       "<div>\n",
       "<style scoped>\n",
       "    .dataframe tbody tr th:only-of-type {\n",
       "        vertical-align: middle;\n",
       "    }\n",
       "\n",
       "    .dataframe tbody tr th {\n",
       "        vertical-align: top;\n",
       "    }\n",
       "\n",
       "    .dataframe thead th {\n",
       "        text-align: right;\n",
       "    }\n",
       "</style>\n",
       "<table border=\"1\" class=\"dataframe\">\n",
       "  <thead>\n",
       "    <tr style=\"text-align: right;\">\n",
       "      <th></th>\n",
       "      <th>Datum</th>\n",
       "      <th>Zeit</th>\n",
       "      <th>Leistung nicht erneuerbar (MW)</th>\n",
       "      <th>Leistung erneuerbar (MW)</th>\n",
       "      <th>Day Ahead Auktion Preis (EUR/MWh)</th>\n",
       "      <th>Jahr</th>\n",
       "    </tr>\n",
       "  </thead>\n",
       "  <tbody>\n",
       "    <tr>\n",
       "      <th>0</th>\n",
       "      <td>2020-01-01</td>\n",
       "      <td>00:00:00</td>\n",
       "      <td>18754.70</td>\n",
       "      <td>13961.99</td>\n",
       "      <td>41.88</td>\n",
       "      <td>2020</td>\n",
       "    </tr>\n",
       "    <tr>\n",
       "      <th>1</th>\n",
       "      <td>2020-01-01</td>\n",
       "      <td>01:00:00</td>\n",
       "      <td>18337.54</td>\n",
       "      <td>14242.17</td>\n",
       "      <td>38.60</td>\n",
       "      <td>2020</td>\n",
       "    </tr>\n",
       "    <tr>\n",
       "      <th>2</th>\n",
       "      <td>2020-01-01</td>\n",
       "      <td>02:00:00</td>\n",
       "      <td>18122.83</td>\n",
       "      <td>14584.20</td>\n",
       "      <td>36.55</td>\n",
       "      <td>2020</td>\n",
       "    </tr>\n",
       "    <tr>\n",
       "      <th>3</th>\n",
       "      <td>2020-01-01</td>\n",
       "      <td>03:00:00</td>\n",
       "      <td>18323.93</td>\n",
       "      <td>14746.24</td>\n",
       "      <td>32.32</td>\n",
       "      <td>2020</td>\n",
       "    </tr>\n",
       "    <tr>\n",
       "      <th>4</th>\n",
       "      <td>2020-01-01</td>\n",
       "      <td>04:00:00</td>\n",
       "      <td>18327.59</td>\n",
       "      <td>14924.48</td>\n",
       "      <td>30.85</td>\n",
       "      <td>2020</td>\n",
       "    </tr>\n",
       "    <tr>\n",
       "      <th>...</th>\n",
       "      <td>...</td>\n",
       "      <td>...</td>\n",
       "      <td>...</td>\n",
       "      <td>...</td>\n",
       "      <td>...</td>\n",
       "      <td>...</td>\n",
       "    </tr>\n",
       "    <tr>\n",
       "      <th>43339</th>\n",
       "      <td>2024-12-10</td>\n",
       "      <td>19:00:00</td>\n",
       "      <td>NaN</td>\n",
       "      <td>NaN</td>\n",
       "      <td>180.17</td>\n",
       "      <td>2024</td>\n",
       "    </tr>\n",
       "    <tr>\n",
       "      <th>43340</th>\n",
       "      <td>2024-12-10</td>\n",
       "      <td>20:00:00</td>\n",
       "      <td>NaN</td>\n",
       "      <td>NaN</td>\n",
       "      <td>166.60</td>\n",
       "      <td>2024</td>\n",
       "    </tr>\n",
       "    <tr>\n",
       "      <th>43341</th>\n",
       "      <td>2024-12-10</td>\n",
       "      <td>21:00:00</td>\n",
       "      <td>NaN</td>\n",
       "      <td>NaN</td>\n",
       "      <td>151.15</td>\n",
       "      <td>2024</td>\n",
       "    </tr>\n",
       "    <tr>\n",
       "      <th>43342</th>\n",
       "      <td>2024-12-10</td>\n",
       "      <td>22:00:00</td>\n",
       "      <td>NaN</td>\n",
       "      <td>NaN</td>\n",
       "      <td>137.94</td>\n",
       "      <td>2024</td>\n",
       "    </tr>\n",
       "    <tr>\n",
       "      <th>43343</th>\n",
       "      <td>2024-12-10</td>\n",
       "      <td>23:00:00</td>\n",
       "      <td>NaN</td>\n",
       "      <td>NaN</td>\n",
       "      <td>121.37</td>\n",
       "      <td>2024</td>\n",
       "    </tr>\n",
       "  </tbody>\n",
       "</table>\n",
       "<p>43344 rows × 6 columns</p>\n",
       "</div>"
      ]
     },
     "execution_count": 123,
     "metadata": {},
     "output_type": "execute_result"
    }
   ],
   "execution_count": 123
  },
  {
   "metadata": {},
   "cell_type": "markdown",
   "source": [
    "# Aufgabe 3\n",
    "**a) Visualisieren Sie in geeigneten Diagrammen die Verteilung der Börsenstrompreise (insgesamt und pro Jahr).**"
   ],
   "id": "82600c64c2864a43"
  },
  {
   "metadata": {
    "ExecuteTime": {
     "end_time": "2024-12-21T13:29:55.993587Z",
     "start_time": "2024-12-21T13:29:55.804914Z"
    }
   },
   "cell_type": "code",
   "source": [
    "df_yearly = df2.groupby(['Jahr']).agg({'Leistung nicht erneuerbar (MW)':'sum', 'Leistung erneuerbar (MW)':'sum', 'Day Ahead Auktion Preis (EUR/MWh)':'mean'}).reset_index()\n",
    "df_yearly.plot.bar(x='Jahr', y='Day Ahead Auktion Preis (EUR/MWh)', colormap='jet', edgecolor='k', title='Verteilung der Börsenstrompreise (pro jahr)')"
   ],
   "id": "f8d895619670fd6e",
   "outputs": [
    {
     "data": {
      "text/plain": [
       "<Axes: title={'center': 'Verteilung der Börsenstrompreise (pro jahr)'}, xlabel='Jahr'>"
      ]
     },
     "execution_count": 115,
     "metadata": {},
     "output_type": "execute_result"
    },
    {
     "data": {
      "text/plain": [
       "<Figure size 640x480 with 1 Axes>"
      ],
      "image/png": "[encoded data removed]"
     },
     "metadata": {},
     "output_type": "display_data"
    }
   ],
   "execution_count": 115
  },
  {
   "metadata": {
    "ExecuteTime": {
     "end_time": "2024-12-21T13:29:56.324900Z",
     "start_time": "2024-12-21T13:29:55.993587Z"
    }
   },
   "cell_type": "code",
   "source": "df_daily.plot(x='Datum', y='Day Ahead Auktion Preis (EUR/MWh)', colormap='jet', title='Verteilung der Börsenstrompreise (insgesamt)')",
   "id": "277f91ba13ea211f",
   "outputs": [
    {
     "data": {
      "text/plain": [
       "<Axes: title={'center': 'Verteilung der Börsenstrompreise (insgesamt)'}, xlabel='Datum'>"
      ]
     },
     "execution_count": 116,
     "metadata": {},
     "output_type": "execute_result"
    },
    {
     "data": {
      "text/plain": [
       "<Figure size 640x480 with 1 Axes>"
      ],
      "image/png": "[encoded data removed]"
     },
     "metadata": {},
     "output_type": "display_data"
    }
   ],
   "execution_count": 116
  },
  {
   "metadata": {},
   "cell_type": "markdown",
   "source": "**b) Berechnen Sie bezogen auf die einzelnen Jahre des Betrachtungszeitraums verschiedene statistische Kenngrößen für den Börsenstrompreis.**",
   "id": "d79a739ca9dd6188"
  },
  {
   "metadata": {
    "ExecuteTime": {
     "end_time": "2024-12-21T13:50:32.222824Z",
     "start_time": "2024-12-21T13:50:32.206780Z"
    }
   },
   "cell_type": "code",
   "source": [
    "df_year_2020 = df2[df2['Jahr'] == 2020].reset_index()\n",
    "df_year_2021 = df2[df2['Jahr'] == 2021].reset_index()\n",
    "df_year_2022 = df2[df2['Jahr'] == 2022].reset_index()\n",
    "df_year_2023 = df2[df2['Jahr'] == 2023].reset_index()\n",
    "df_year_2024 = df2[df2['Jahr'] == 2024].reset_index()\n",
    "print(df_year_2020.columns.tolist())"
   ],
   "id": "3c8d39d16d54b7f8",
   "outputs": [
    {
     "name": "stdout",
     "output_type": "stream",
     "text": [
      "['index', 'Datum', 'Zeit', 'Leistung nicht erneuerbar (MW)', 'Leistung erneuerbar (MW)', 'Day Ahead Auktion Preis (EUR/MWh)', 'Jahr']\n"
     ]
    }
   ],
   "execution_count": 124
  },
  {
   "metadata": {
    "ExecuteTime": {
     "end_time": "2024-12-21T13:29:56.362222Z",
     "start_time": "2024-12-21T13:29:56.338552Z"
    }
   },
   "cell_type": "code",
   "source": [
    "sk_2020=df_year_2020.groupby('Jahr')[['Leistung nicht erneuerbar (MW)', 'Leistung erneuerbar (MW)', 'Day Ahead Auktion Preis (EUR/MWh)']].agg(['mean', 'std'])\n",
    "sk_2021=df_year_2021.groupby('Jahr')[['Leistung nicht erneuerbar (MW)', 'Leistung erneuerbar (MW)', 'Day Ahead Auktion Preis (EUR/MWh)']].agg(['mean', 'std'])\n",
    "sk_2022=df_year_2022.groupby('Jahr')[['Leistung nicht erneuerbar (MW)', 'Leistung erneuerbar (MW)', 'Day Ahead Auktion Preis (EUR/MWh)']].agg(['mean', 'std'])\n",
    "sk_2023=df_year_2023.groupby('Jahr')[['Leistung nicht erneuerbar (MW)', 'Leistung erneuerbar (MW)', 'Day Ahead Auktion Preis (EUR/MWh)']].agg(['mean', 'std'])\n",
    "sk_2024=df_year_2024.groupby('Jahr')[['Leistung nicht erneuerbar (MW)', 'Leistung erneuerbar (MW)', 'Day Ahead Auktion Preis (EUR/MWh)']].agg(['mean', 'std'])"
   ],
   "id": "4e8ad7948b8e4d61",
   "outputs": [],
   "execution_count": 118
  },
  {
   "metadata": {
    "ExecuteTime": {
     "end_time": "2024-12-21T13:29:56.384385Z",
     "start_time": "2024-12-21T13:29:56.363230Z"
    }
   },
   "cell_type": "code",
   "source": [
    "print(sk_2020)\n",
    "print(\"----------------------------------------------------------------------------------------------------------------\")\n",
    "print(sk_2021)\n",
    "print(\"----------------------------------------------------------------------------------------------------------------\")\n",
    "print(sk_2022)\n",
    "print(\"----------------------------------------------------------------------------------------------------------------\")\n",
    "print(sk_2023)\n",
    "print(\"----------------------------------------------------------------------------------------------------------------\")\n",
    "print(sk_2024)"
   ],
   "id": "d7918449d236754b",
   "outputs": [
    {
     "name": "stdout",
     "output_type": "stream",
     "text": [
      "     Leistung nicht erneuerbar (MW)             Leistung erneuerbar (MW)  \\\n",
      "                               mean         std                     mean   \n",
      "Jahr                                                                       \n",
      "2020                   21289.996511  8849.76195             27239.596161   \n",
      "\n",
      "                   Day Ahead Auktion Preis (EUR/MWh)             \n",
      "               std                              mean        std  \n",
      "Jahr                                                             \n",
      "2020  11770.642963                         30.470716  17.500845  \n",
      "----------------------------------------------------------------------------------------------------------------\n",
      "     Leistung nicht erneuerbar (MW)              Leistung erneuerbar (MW)  \\\n",
      "                               mean          std                     mean   \n",
      "Jahr                                                                        \n",
      "2021                    23898.47868  8280.482434             25343.752108   \n",
      "\n",
      "                   Day Ahead Auktion Preis (EUR/MWh)             \n",
      "               std                              mean        std  \n",
      "Jahr                                                             \n",
      "2021  11353.520559                         96.849918  73.680947  \n",
      "----------------------------------------------------------------------------------------------------------------\n",
      "     Leistung nicht erneuerbar (MW)              Leistung erneuerbar (MW)  \\\n",
      "                               mean          std                     mean   \n",
      "Jahr                                                                        \n",
      "2022                   24753.693695  7255.679044              27178.48401   \n",
      "\n",
      "                   Day Ahead Auktion Preis (EUR/MWh)              \n",
      "               std                              mean         std  \n",
      "Jahr                                                              \n",
      "2022  12254.231493                        235.446143  142.809409  \n",
      "----------------------------------------------------------------------------------------------------------------\n",
      "     Leistung nicht erneuerbar (MW)              Leistung erneuerbar (MW)  \\\n",
      "                               mean          std                     mean   \n",
      "Jahr                                                                        \n",
      "2023                   18880.694693  8920.086528             28929.809396   \n",
      "\n",
      "                   Day Ahead Auktion Preis (EUR/MWh)             \n",
      "               std                              mean        std  \n",
      "Jahr                                                             \n",
      "2023  12663.459742                         95.175452  47.584215  \n",
      "----------------------------------------------------------------------------------------------------------------\n",
      "     Leistung nicht erneuerbar (MW)              Leistung erneuerbar (MW)  \\\n",
      "                               mean          std                     mean   \n",
      "Jahr                                                                        \n",
      "2024                   17097.016296  7408.669335             29579.638264   \n",
      "\n",
      "                   Day Ahead Auktion Preis (EUR/MWh)             \n",
      "               std                              mean        std  \n",
      "Jahr                                                             \n",
      "2024  12846.321118                         77.998829  60.611317  \n"
     ]
    }
   ],
   "execution_count": 119
  },
  {
   "metadata": {
    "ExecuteTime": {
     "end_time": "2024-12-21T13:50:36.736569Z",
     "start_time": "2024-12-21T13:50:36.716529Z"
    }
   },
   "cell_type": "code",
   "source": [
    "df_year_2020['Monat']= pd.DatetimeIndex(df_year_2020['Datum']).month\n",
    "df_year_2020"
   ],
   "id": "3b81f5fc4c2ab007",
   "outputs": [
    {
     "data": {
      "text/plain": [
       "      index       Datum      Zeit  Leistung nicht erneuerbar (MW)  \\\n",
       "0         0  2020-01-01  00:00:00                        18754.70   \n",
       "1         1  2020-01-01  01:00:00                        18337.54   \n",
       "2         2  2020-01-01  02:00:00                        18122.83   \n",
       "3         3  2020-01-01  03:00:00                        18323.93   \n",
       "4         4  2020-01-01  04:00:00                        18327.59   \n",
       "...     ...         ...       ...                             ...   \n",
       "8779   8779  2020-12-31  19:00:00                        26562.89   \n",
       "8780   8780  2020-12-31  20:00:00                        26543.53   \n",
       "8781   8781  2020-12-31  21:00:00                        25953.24   \n",
       "8782   8782  2020-12-31  22:00:00                        25248.95   \n",
       "8783   8783  2020-12-31  23:00:00                        24319.33   \n",
       "\n",
       "      Leistung erneuerbar (MW)  Day Ahead Auktion Preis (EUR/MWh)  Jahr  Monat  \n",
       "0                     13961.99                              41.88  2020      1  \n",
       "1                     14242.17                              38.60  2020      1  \n",
       "2                     14584.20                              36.55  2020      1  \n",
       "3                     14746.24                              32.32  2020      1  \n",
       "4                     14924.48                              30.85  2020      1  \n",
       "...                        ...                                ...   ...    ...  \n",
       "8779                  16056.07                              59.47  2020     12  \n",
       "8780                  15103.80                              56.70  2020     12  \n",
       "8781                  14125.29                              52.44  2020     12  \n",
       "8782                  12978.50                              51.86  2020     12  \n",
       "8783                  12046.10                              52.26  2020     12  \n",
       "\n",
       "[8784 rows x 8 columns]"
      ],
      "text/html": [
       "<div>\n",
       "<style scoped>\n",
       "    .dataframe tbody tr th:only-of-type {\n",
       "        vertical-align: middle;\n",
       "    }\n",
       "\n",
       "    .dataframe tbody tr th {\n",
       "        vertical-align: top;\n",
       "    }\n",
       "\n",
       "    .dataframe thead th {\n",
       "        text-align: right;\n",
       "    }\n",
       "</style>\n",
       "<table border=\"1\" class=\"dataframe\">\n",
       "  <thead>\n",
       "    <tr style=\"text-align: right;\">\n",
       "      <th></th>\n",
       "      <th>index</th>\n",
       "      <th>Datum</th>\n",
       "      <th>Zeit</th>\n",
       "      <th>Leistung nicht erneuerbar (MW)</th>\n",
       "      <th>Leistung erneuerbar (MW)</th>\n",
       "      <th>Day Ahead Auktion Preis (EUR/MWh)</th>\n",
       "      <th>Jahr</th>\n",
       "      <th>Monat</th>\n",
       "    </tr>\n",
       "  </thead>\n",
       "  <tbody>\n",
       "    <tr>\n",
       "      <th>0</th>\n",
       "      <td>0</td>\n",
       "      <td>2020-01-01</td>\n",
       "      <td>00:00:00</td>\n",
       "      <td>18754.70</td>\n",
       "      <td>13961.99</td>\n",
       "      <td>41.88</td>\n",
       "      <td>2020</td>\n",
       "      <td>1</td>\n",
       "    </tr>\n",
       "    <tr>\n",
       "      <th>1</th>\n",
       "      <td>1</td>\n",
       "      <td>2020-01-01</td>\n",
       "      <td>01:00:00</td>\n",
       "      <td>18337.54</td>\n",
       "      <td>14242.17</td>\n",
       "      <td>38.60</td>\n",
       "      <td>2020</td>\n",
       "      <td>1</td>\n",
       "    </tr>\n",
       "    <tr>\n",
       "      <th>2</th>\n",
       "      <td>2</td>\n",
       "      <td>2020-01-01</td>\n",
       "      <td>02:00:00</td>\n",
       "      <td>18122.83</td>\n",
       "      <td>14584.20</td>\n",
       "      <td>36.55</td>\n",
       "      <td>2020</td>\n",
       "      <td>1</td>\n",
       "    </tr>\n",
       "    <tr>\n",
       "      <th>3</th>\n",
       "      <td>3</td>\n",
       "      <td>2020-01-01</td>\n",
       "      <td>03:00:00</td>\n",
       "      <td>18323.93</td>\n",
       "      <td>14746.24</td>\n",
       "      <td>32.32</td>\n",
       "      <td>2020</td>\n",
       "      <td>1</td>\n",
       "    </tr>\n",
       "    <tr>\n",
       "      <th>4</th>\n",
       "      <td>4</td>\n",
       "      <td>2020-01-01</td>\n",
       "      <td>04:00:00</td>\n",
       "      <td>18327.59</td>\n",
       "      <td>14924.48</td>\n",
       "      <td>30.85</td>\n",
       "      <td>2020</td>\n",
       "      <td>1</td>\n",
       "    </tr>\n",
       "    <tr>\n",
       "      <th>...</th>\n",
       "      <td>...</td>\n",
       "      <td>...</td>\n",
       "      <td>...</td>\n",
       "      <td>...</td>\n",
       "      <td>...</td>\n",
       "      <td>...</td>\n",
       "      <td>...</td>\n",
       "      <td>...</td>\n",
       "    </tr>\n",
       "    <tr>\n",
       "      <th>8779</th>\n",
       "      <td>8779</td>\n",
       "      <td>2020-12-31</td>\n",
       "      <td>19:00:00</td>\n",
       "      <td>26562.89</td>\n",
       "      <td>16056.07</td>\n",
       "      <td>59.47</td>\n",
       "      <td>2020</td>\n",
       "      <td>12</td>\n",
       "    </tr>\n",
       "    <tr>\n",
       "      <th>8780</th>\n",
       "      <td>8780</td>\n",
       "      <td>2020-12-31</td>\n",
       "      <td>20:00:00</td>\n",
       "      <td>26543.53</td>\n",
       "      <td>15103.80</td>\n",
       "      <td>56.70</td>\n",
       "      <td>2020</td>\n",
       "      <td>12</td>\n",
       "    </tr>\n",
       "    <tr>\n",
       "      <th>8781</th>\n",
       "      <td>8781</td>\n",
       "      <td>2020-12-31</td>\n",
       "      <td>21:00:00</td>\n",
       "      <td>25953.24</td>\n",
       "      <td>14125.29</td>\n",
       "      <td>52.44</td>\n",
       "      <td>2020</td>\n",
       "      <td>12</td>\n",
       "    </tr>\n",
       "    <tr>\n",
       "      <th>8782</th>\n",
       "      <td>8782</td>\n",
       "      <td>2020-12-31</td>\n",
       "      <td>22:00:00</td>\n",
       "      <td>25248.95</td>\n",
       "      <td>12978.50</td>\n",
       "      <td>51.86</td>\n",
       "      <td>2020</td>\n",
       "      <td>12</td>\n",
       "    </tr>\n",
       "    <tr>\n",
       "      <th>8783</th>\n",
       "      <td>8783</td>\n",
       "      <td>2020-12-31</td>\n",
       "      <td>23:00:00</td>\n",
       "      <td>24319.33</td>\n",
       "      <td>12046.10</td>\n",
       "      <td>52.26</td>\n",
       "      <td>2020</td>\n",
       "      <td>12</td>\n",
       "    </tr>\n",
       "  </tbody>\n",
       "</table>\n",
       "<p>8784 rows × 8 columns</p>\n",
       "</div>"
      ]
     },
     "execution_count": 125,
     "metadata": {},
     "output_type": "execute_result"
    }
   ],
   "execution_count": 125
  },
  {
   "metadata": {
    "ExecuteTime": {
     "end_time": "2024-12-21T13:29:56.408363Z",
     "start_time": "2024-12-21T13:29:56.393291Z"
    }
   },
   "cell_type": "code",
   "source": "#print(mean_month_preis)",
   "id": "52f958eb9c2d4c6b",
   "outputs": [
    {
     "name": "stdout",
     "output_type": "stream",
     "text": [
      "Monat\n",
      "1     35.034906\n",
      "2     21.919009\n",
      "3     22.485828\n",
      "4     17.093139\n",
      "5     17.596505\n",
      "        ...    \n",
      "8     34.863952\n",
      "9     43.690194\n",
      "10    33.969570\n",
      "11    38.785708\n",
      "12    43.519745\n",
      "Name: Day Ahead Auktion Preis (EUR/MWh), Length: 12, dtype: float64\n"
     ]
    }
   ],
   "execution_count": 121
  },
  {
   "metadata": {
    "ExecuteTime": {
     "end_time": "2024-12-21T13:29:56.413498Z",
     "start_time": "2024-12-21T13:29:56.410733Z"
    }
   },
   "cell_type": "code",
   "source": "",
   "id": "5cb17e1cceeec593",
   "outputs": [],
   "execution_count": 121
  }
 ],
 "metadata": {
  "kernelspec": {
   "display_name": "Python 3",
   "language": "python",
   "name": "python3"
  },
  "language_info": {
   "codemirror_mode": {
    "name": "ipython",
    "version": 2
   },
   "file_extension": ".py",
   "mimetype": "text/x-python",
   "name": "python",
   "nbconvert_exporter": "python",
   "pygments_lexer": "ipython2",
   "version": "2.7.6"
  }
 },
 "nbformat": 4,
 "nbformat_minor": 5
}
