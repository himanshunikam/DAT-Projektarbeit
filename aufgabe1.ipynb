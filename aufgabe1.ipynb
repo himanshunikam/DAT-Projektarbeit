{
 "cells": [
  {
   "cell_type": "code",
   "id": "initial_id",
   "metadata": {
    "collapsed": true,
    "ExecuteTime": {
     "end_time": "2024-12-20T09:16:10.538396Z",
     "start_time": "2024-12-20T09:16:10.121741Z"
    }
   },
   "source": [
    "import os\n",
    "\n",
    "import numpy as np\n",
    "import pandas as pd\n",
    "path = 'DAT-WS2425-Projektarbeit\\DAT-WS2425-Projektarbeit\\Daten\\Strompreisdaten'\n",
    "extension = '.csv'\n",
    "pd.set_option('display.max_rows', 500)\n",
    "pd.set_option('display.max_columns', 500)\n",
    "files = [file for file in os.listdir(path) if file.endswith(extension)]\n",
    "\n",
    "dfs = []\n",
    "filecounter =0\n",
    "for file in files:\n",
    "    df = pd.read_csv(os.path.join(path, file))\n",
    "    dfs.append(df)\n",
    "    filecounter += 1\n",
    "    \n",
    "print(\"total files: \", filecounter)\n",
    "df = pd.concat(dfs, ignore_index=True)\n"
   ],
   "outputs": [
    {
     "name": "stdout",
     "output_type": "stream",
     "text": [
      "total files:  258\n"
     ]
    }
   ],
   "execution_count": 20
  },
  {
   "cell_type": "code",
   "source": [
    "df['Datum (MEZ)'] = pd.to_datetime(df['Datum (MEZ)'])\n",
    "df['Datum (MESZ)'] = pd.to_datetime(df['Datum (MESZ)'])\n",
    "print(len(df['Datum (MESZ)']))"
   ],
   "metadata": {
    "collapsed": false,
    "ExecuteTime": {
     "end_time": "2024-12-20T09:16:10.594062Z",
     "start_time": "2024-12-20T09:16:10.541649Z"
    }
   },
   "id": "2a598676712d7408",
   "outputs": [
    {
     "name": "stdout",
     "output_type": "stream",
     "text": [
      "43392\n"
     ]
    }
   ],
   "execution_count": 21
  },
  {
   "cell_type": "code",
   "source": [
    "df = df.drop(df[df['Datum (MEZ)']<'2020-01-01'].index)"
   ],
   "metadata": {
    "collapsed": false,
    "ExecuteTime": {
     "end_time": "2024-12-20T09:16:10.607009Z",
     "start_time": "2024-12-20T09:16:10.596239Z"
    }
   },
   "id": "5b151fbe6329089",
   "outputs": [],
   "execution_count": 22
  },
  {
   "metadata": {
    "ExecuteTime": {
     "end_time": "2024-12-20T09:16:10.655372Z",
     "start_time": "2024-12-20T09:16:10.608070Z"
    }
   },
   "cell_type": "code",
   "source": [
    "# Separating and Creating new columns for Date and Time from Datum (MEZ) and Datum (MESZ)\n",
    "df['Datum'] = df['Datum (MEZ)'].dt.date\n",
    "df['Zeit'] = df['Datum (MEZ)'].dt.time\n",
    "df['Datum'] =df['Datum'].fillna(df['Datum (MESZ)'].dt.date)\n",
    "df['Zeit'] =df['Zeit'].fillna(df['Datum (MESZ)'].dt.time)\n",
    "cols = df.columns.tolist()\n",
    "print(cols)"
   ],
   "id": "31a293829d5090fc",
   "outputs": [
    {
     "name": "stdout",
     "output_type": "stream",
     "text": [
      "['Datum (MEZ)', 'Leistung nicht erneuerbar (MW)', 'Leistung erneuerbar (MW)', 'Day Ahead Auktion Preis (EUR/MWh)', 'Datum (MESZ)', 'Datum', 'Zeit']\n"
     ]
    }
   ],
   "execution_count": 23
  },
  {
   "metadata": {
    "ExecuteTime": {
     "end_time": "2024-12-20T09:16:10.680296Z",
     "start_time": "2024-12-20T09:16:10.657485Z"
    }
   },
   "cell_type": "code",
   "source": [
    "cols = ['Datum', 'Zeit','Datum (MEZ)', 'Leistung nicht erneuerbar (MW)', 'Leistung erneuerbar (MW)', 'Day Ahead Auktion Preis (EUR/MWh)', 'Datum (MESZ)']\n",
    "df = df[cols]\n",
    "df = df.drop(columns=['Datum (MEZ)', 'Datum (MESZ)'])\n",
    "df = df.reset_index(drop=True)\n",
    "df"
   ],
   "id": "a29a9480c61a883c",
   "outputs": [
    {
     "data": {
      "text/plain": "            Datum      Zeit  Leistung nicht erneuerbar (MW)  \\\n0      2020-01-01  00:00:00                        18754.70   \n1      2020-01-01  01:00:00                        18337.54   \n2      2020-01-01  02:00:00                        18122.83   \n3      2020-01-01  03:00:00                        18323.93   \n4      2020-01-01  04:00:00                        18327.59   \n...           ...       ...                             ...   \n43339  2024-12-10  19:00:00                             NaN   \n43340  2024-12-10  20:00:00                             NaN   \n43341  2024-12-10  21:00:00                             NaN   \n43342  2024-12-10  22:00:00                             NaN   \n43343  2024-12-10  23:00:00                             NaN   \n\n       Leistung erneuerbar (MW)  Day Ahead Auktion Preis (EUR/MWh)  \n0                      13961.99                              41.88  \n1                      14242.17                              38.60  \n2                      14584.20                              36.55  \n3                      14746.24                              32.32  \n4                      14924.48                              30.85  \n...                         ...                                ...  \n43339                       NaN                             180.17  \n43340                       NaN                             166.60  \n43341                       NaN                             151.15  \n43342                       NaN                             137.94  \n43343                       NaN                             121.37  \n\n[43344 rows x 5 columns]",
      "text/html": "<div>\n<style scoped>\n    .dataframe tbody tr th:only-of-type {\n        vertical-align: middle;\n    }\n\n    .dataframe tbody tr th {\n        vertical-align: top;\n    }\n\n    .dataframe thead th {\n        text-align: right;\n    }\n</style>\n<table border=\"1\" class=\"dataframe\">\n  <thead>\n    <tr style=\"text-align: right;\">\n      <th></th>\n      <th>Datum</th>\n      <th>Zeit</th>\n      <th>Leistung nicht erneuerbar (MW)</th>\n      <th>Leistung erneuerbar (MW)</th>\n      <th>Day Ahead Auktion Preis (EUR/MWh)</th>\n    </tr>\n  </thead>\n  <tbody>\n    <tr>\n      <th>0</th>\n      <td>2020-01-01</td>\n      <td>00:00:00</td>\n      <td>18754.70</td>\n      <td>13961.99</td>\n      <td>41.88</td>\n    </tr>\n    <tr>\n      <th>1</th>\n      <td>2020-01-01</td>\n      <td>01:00:00</td>\n      <td>18337.54</td>\n      <td>14242.17</td>\n      <td>38.60</td>\n    </tr>\n    <tr>\n      <th>2</th>\n      <td>2020-01-01</td>\n      <td>02:00:00</td>\n      <td>18122.83</td>\n      <td>14584.20</td>\n      <td>36.55</td>\n    </tr>\n    <tr>\n      <th>3</th>\n      <td>2020-01-01</td>\n      <td>03:00:00</td>\n      <td>18323.93</td>\n      <td>14746.24</td>\n      <td>32.32</td>\n    </tr>\n    <tr>\n      <th>4</th>\n      <td>2020-01-01</td>\n      <td>04:00:00</td>\n      <td>18327.59</td>\n      <td>14924.48</td>\n      <td>30.85</td>\n    </tr>\n    <tr>\n      <th>...</th>\n      <td>...</td>\n      <td>...</td>\n      <td>...</td>\n      <td>...</td>\n      <td>...</td>\n    </tr>\n    <tr>\n      <th>43339</th>\n      <td>2024-12-10</td>\n      <td>19:00:00</td>\n      <td>NaN</td>\n      <td>NaN</td>\n      <td>180.17</td>\n    </tr>\n    <tr>\n      <th>43340</th>\n      <td>2024-12-10</td>\n      <td>20:00:00</td>\n      <td>NaN</td>\n      <td>NaN</td>\n      <td>166.60</td>\n    </tr>\n    <tr>\n      <th>43341</th>\n      <td>2024-12-10</td>\n      <td>21:00:00</td>\n      <td>NaN</td>\n      <td>NaN</td>\n      <td>151.15</td>\n    </tr>\n    <tr>\n      <th>43342</th>\n      <td>2024-12-10</td>\n      <td>22:00:00</td>\n      <td>NaN</td>\n      <td>NaN</td>\n      <td>137.94</td>\n    </tr>\n    <tr>\n      <th>43343</th>\n      <td>2024-12-10</td>\n      <td>23:00:00</td>\n      <td>NaN</td>\n      <td>NaN</td>\n      <td>121.37</td>\n    </tr>\n  </tbody>\n</table>\n<p>43344 rows × 5 columns</p>\n</div>"
     },
     "execution_count": 24,
     "metadata": {},
     "output_type": "execute_result"
    }
   ],
   "execution_count": 24
  },
  {
   "metadata": {
    "ExecuteTime": {
     "end_time": "2024-12-20T09:17:02.590129Z",
     "start_time": "2024-12-20T09:17:02.563348Z"
    }
   },
   "cell_type": "code",
   "source": [
    "# New df_daily with sum of Leistung and average of Auktion preis for every day\n",
    "df_daily = df.groupby(['Datum']).agg({'Leistung nicht erneuerbar (MW)': 'sum', 'Leistung erneuerbar (MW)': 'sum', 'Day Ahead Auktion Preis (EUR/MWh)' : 'mean'})\n",
    "df_daily"
   ],
   "id": "dc36e9984da5bcb2",
   "outputs": [
    {
     "data": {
      "text/plain": "            Leistung nicht erneuerbar (MW)  Leistung erneuerbar (MW)  \\\nDatum                                                                  \n2020-01-01                       468837.03                 441093.57   \n2020-01-02                       505002.46                 605620.76   \n2020-01-03                       427798.33                 968577.88   \n2020-01-04                       411321.40                 987041.46   \n2020-01-05                       508187.80                 514534.00   \n...                                    ...                       ...   \n2024-12-06                       482833.73                 969065.85   \n2024-12-07                       386654.54                 834428.48   \n2024-12-08                       455016.51                 609461.18   \n2024-12-09                       491439.42                 833223.84   \n2024-12-10                            0.00                      0.00   \n\n            Day Ahead Auktion Preis (EUR/MWh)  \nDatum                                          \n2020-01-01                          34.964167  \n2020-01-02                          38.869167  \n2020-01-03                          26.111250  \n2020-01-04                          20.322917  \n2020-01-05                          35.552500  \n...                                       ...  \n2024-12-06                          86.374583  \n2024-12-07                          71.508333  \n2024-12-08                          99.068333  \n2024-12-09                          99.591250  \n2024-12-10                         149.928750  \n\n[1806 rows x 3 columns]",
      "text/html": "<div>\n<style scoped>\n    .dataframe tbody tr th:only-of-type {\n        vertical-align: middle;\n    }\n\n    .dataframe tbody tr th {\n        vertical-align: top;\n    }\n\n    .dataframe thead th {\n        text-align: right;\n    }\n</style>\n<table border=\"1\" class=\"dataframe\">\n  <thead>\n    <tr style=\"text-align: right;\">\n      <th></th>\n      <th>Leistung nicht erneuerbar (MW)</th>\n      <th>Leistung erneuerbar (MW)</th>\n      <th>Day Ahead Auktion Preis (EUR/MWh)</th>\n    </tr>\n    <tr>\n      <th>Datum</th>\n      <th></th>\n      <th></th>\n      <th></th>\n    </tr>\n  </thead>\n  <tbody>\n    <tr>\n      <th>2020-01-01</th>\n      <td>468837.03</td>\n      <td>441093.57</td>\n      <td>34.964167</td>\n    </tr>\n    <tr>\n      <th>2020-01-02</th>\n      <td>505002.46</td>\n      <td>605620.76</td>\n      <td>38.869167</td>\n    </tr>\n    <tr>\n      <th>2020-01-03</th>\n      <td>427798.33</td>\n      <td>968577.88</td>\n      <td>26.111250</td>\n    </tr>\n    <tr>\n      <th>2020-01-04</th>\n      <td>411321.40</td>\n      <td>987041.46</td>\n      <td>20.322917</td>\n    </tr>\n    <tr>\n      <th>2020-01-05</th>\n      <td>508187.80</td>\n      <td>514534.00</td>\n      <td>35.552500</td>\n    </tr>\n    <tr>\n      <th>...</th>\n      <td>...</td>\n      <td>...</td>\n      <td>...</td>\n    </tr>\n    <tr>\n      <th>2024-12-06</th>\n      <td>482833.73</td>\n      <td>969065.85</td>\n      <td>86.374583</td>\n    </tr>\n    <tr>\n      <th>2024-12-07</th>\n      <td>386654.54</td>\n      <td>834428.48</td>\n      <td>71.508333</td>\n    </tr>\n    <tr>\n      <th>2024-12-08</th>\n      <td>455016.51</td>\n      <td>609461.18</td>\n      <td>99.068333</td>\n    </tr>\n    <tr>\n      <th>2024-12-09</th>\n      <td>491439.42</td>\n      <td>833223.84</td>\n      <td>99.591250</td>\n    </tr>\n    <tr>\n      <th>2024-12-10</th>\n      <td>0.00</td>\n      <td>0.00</td>\n      <td>149.928750</td>\n    </tr>\n  </tbody>\n</table>\n<p>1806 rows × 3 columns</p>\n</div>"
     },
     "execution_count": 26,
     "metadata": {},
     "output_type": "execute_result"
    }
   ],
   "execution_count": 26
  },
  {
   "metadata": {},
   "cell_type": "markdown",
   "source": [],
   "id": "197fc916f5fc55f3"
  },
  {
   "metadata": {
    "ExecuteTime": {
     "end_time": "2024-12-20T09:16:11.901154Z",
     "start_time": "2024-12-20T09:16:11.901154Z"
    }
   },
   "cell_type": "code",
   "source": [],
   "id": "6f6589ff33609ba8",
   "outputs": [],
   "execution_count": null
  },
  {
   "metadata": {
    "ExecuteTime": {
     "start_time": "2024-12-20T09:16:11.902153Z"
    }
   },
   "cell_type": "code",
   "source": [],
   "id": "9698037ce98695a2",
   "outputs": [],
   "execution_count": null
  }
 ],
 "metadata": {
  "kernelspec": {
   "display_name": "Python 3",
   "language": "python",
   "name": "python3"
  },
  "language_info": {
   "codemirror_mode": {
    "name": "ipython",
    "version": 2
   },
   "file_extension": ".py",
   "mimetype": "text/x-python",
   "name": "python",
   "nbconvert_exporter": "python",
   "pygments_lexer": "ipython2",
   "version": "2.7.6"
  }
 },
 "nbformat": 4,
 "nbformat_minor": 5
}
